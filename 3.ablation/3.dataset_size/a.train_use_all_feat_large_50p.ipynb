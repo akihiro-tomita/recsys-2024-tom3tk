{
 "cells": [
  {
   "cell_type": "markdown",
   "metadata": {},
   "source": [
    "# Load Libraries"
   ]
  },
  {
   "cell_type": "code",
   "execution_count": 1,
   "metadata": {},
   "outputs": [
    {
     "data": {
      "text/html": [
       "<style type='text/css'>\n",
       ".datatable table.frame { margin-bottom: 0; }\n",
       ".datatable table.frame thead { border-bottom: none; }\n",
       ".datatable table.frame tr.coltypes td {  color: #FFFFFF;  line-height: 6px;  padding: 0 0.5em;}\n",
       ".datatable .bool    { background: #DDDD99; }\n",
       ".datatable .object  { background: #565656; }\n",
       ".datatable .int     { background: #5D9E5D; }\n",
       ".datatable .float   { background: #4040CC; }\n",
       ".datatable .str     { background: #CC4040; }\n",
       ".datatable .time    { background: #40CC40; }\n",
       ".datatable .row_index {  background: var(--jp-border-color3);  border-right: 1px solid var(--jp-border-color0);  color: var(--jp-ui-font-color3);  font-size: 9px;}\n",
       ".datatable .frame tbody td { text-align: left; }\n",
       ".datatable .frame tr.coltypes .row_index {  background: var(--jp-border-color0);}\n",
       ".datatable th:nth-child(2) { padding-left: 12px; }\n",
       ".datatable .hellipsis {  color: var(--jp-cell-editor-border-color);}\n",
       ".datatable .vellipsis {  background: var(--jp-layout-color0);  color: var(--jp-cell-editor-border-color);}\n",
       ".datatable .na {  color: var(--jp-cell-editor-border-color);  font-size: 80%;}\n",
       ".datatable .sp {  opacity: 0.25;}\n",
       ".datatable .footer { font-size: 9px; }\n",
       ".datatable .frame_dimensions {  background: var(--jp-border-color3);  border-top: 1px solid var(--jp-border-color0);  color: var(--jp-ui-font-color3);  display: inline-block;  opacity: 0.6;  padding: 1px 10px 1px 5px;}\n",
       "</style>\n"
      ],
      "text/plain": [
       "<IPython.core.display.HTML object>"
      ]
     },
     "metadata": {},
     "output_type": "display_data"
    }
   ],
   "source": [
    "import os\n",
    "os.sched_setaffinity(0, range(0,96))\n",
    "\n",
    "from pathlib import Path\n",
    "\n",
    "import pandas as pd\n",
    "import polars as pl\n",
    "\n",
    "import lightgbm as lgb\n",
    "import matplotlib.pyplot as plt\n",
    "import random\n",
    "import seaborn as sns\n",
    "\n",
    "from tqdm import tqdm\n",
    "\n",
    "import warnings\n",
    "\n",
    "warnings.filterwarnings('ignore')\n",
    "\n",
    "# Logging\n",
    "import logging\n",
    "\n",
    "# Get logger\n",
    "logger = logging.getLogger(__name__)\n",
    "logger.setLevel(logging.DEBUG)\n",
    "file_handler = logging.FileHandler('logs.log')\n",
    "\n",
    "# Set log format\n",
    "formatter = logging.Formatter('[%(asctime)s][%(levelname)s] %(message)s')\n",
    "file_handler.setFormatter(formatter)\n",
    "logger.addHandler(file_handler)\n",
    "\n",
    "# Settings to display log on notebook\n",
    "stream_handler = logging.StreamHandler()\n",
    "stream_handler.setFormatter(formatter)\n",
    "logger.addHandler(stream_handler)"
   ]
  },
  {
   "cell_type": "markdown",
   "metadata": {},
   "source": [
    "# Data Load"
   ]
  },
  {
   "cell_type": "code",
   "execution_count": 2,
   "metadata": {},
   "outputs": [],
   "source": [
    "INPUT_DIR = Path(\"/home/code_for_sub/3.ablation/1.leaky\")\n",
    "\n",
    "val_df = pl.read_parquet(INPUT_DIR / \"validation\" / \"val_df.parquet\")"
   ]
  },
  {
   "cell_type": "code",
   "execution_count": 3,
   "metadata": {
    "scrolled": true
   },
   "outputs": [
    {
     "name": "stdout",
     "output_type": "stream",
     "text": [
      "['../../trn_large_chunks/trn_df_chunk13.parquet', '../../trn_large_chunks/trn_df_chunk49.parquet', '../../trn_large_chunks/trn_df_chunk38.parquet', '../../trn_large_chunks/trn_df_chunk9.parquet', '../../trn_large_chunks/trn_df_chunk90.parquet', '../../trn_large_chunks/trn_df_chunk12.parquet', '../../trn_large_chunks/trn_df_chunk8.parquet', '../../trn_large_chunks/trn_df_chunk0.parquet', '../../trn_large_chunks/trn_df_chunk91.parquet', '../../trn_large_chunks/trn_df_chunk55.parquet', '../../trn_large_chunks/trn_df_chunk53.parquet', '../../trn_large_chunks/trn_df_chunk61.parquet', '../../trn_large_chunks/trn_df_chunk45.parquet', '../../trn_large_chunks/trn_df_chunk15.parquet', '../../trn_large_chunks/trn_df_chunk86.parquet', '../../trn_large_chunks/trn_df_chunk88.parquet', '../../trn_large_chunks/trn_df_chunk59.parquet', '../../trn_large_chunks/trn_df_chunk81.parquet', '../../trn_large_chunks/trn_df_chunk47.parquet', '../../trn_large_chunks/trn_df_chunk4.parquet', '../../trn_large_chunks/trn_df_chunk37.parquet', '../../trn_large_chunks/trn_df_chunk93.parquet', '../../trn_large_chunks/trn_df_chunk5.parquet', '../../trn_large_chunks/trn_df_chunk7.parquet', '../../trn_large_chunks/trn_df_chunk51.parquet', '../../trn_large_chunks/trn_df_chunk73.parquet', '../../trn_large_chunks/trn_df_chunk71.parquet', '../../trn_large_chunks/trn_df_chunk54.parquet', '../../trn_large_chunks/trn_df_chunk10.parquet', '../../trn_large_chunks/trn_df_chunk33.parquet', '../../trn_large_chunks/trn_df_chunk14.parquet', '../../trn_large_chunks/trn_df_chunk76.parquet', '../../trn_large_chunks/trn_df_chunk94.parquet', '../../trn_large_chunks/trn_df_chunk23.parquet', '../../trn_large_chunks/trn_df_chunk57.parquet', '../../trn_large_chunks/trn_df_chunk84.parquet', '../../trn_large_chunks/trn_df_chunk74.parquet', '../../trn_large_chunks/trn_df_chunk24.parquet', '../../trn_large_chunks/trn_df_chunk29.parquet', '../../trn_large_chunks/trn_df_chunk63.parquet', '../../trn_large_chunks/trn_df_chunk67.parquet', '../../trn_large_chunks/trn_df_chunk41.parquet', '../../trn_large_chunks/trn_df_chunk26.parquet', '../../trn_large_chunks/trn_df_chunk62.parquet', '../../trn_large_chunks/trn_df_chunk2.parquet', '../../trn_large_chunks/trn_df_chunk16.parquet', '../../trn_large_chunks/trn_df_chunk82.parquet', '../../trn_large_chunks/trn_df_chunk27.parquet', '../../trn_large_chunks/trn_df_chunk19.parquet', '../../trn_large_chunks/trn_df_chunk96.parquet']\n"
     ]
    },
    {
     "name": "stderr",
     "output_type": "stream",
     "text": [
      "100%|█████████████████████████████████████████████████████████████████████| 50/50 [02:07<00:00,  2.54s/it]\n"
     ]
    },
    {
     "data": {
      "text/plain": [
       "80"
      ]
     },
     "execution_count": 3,
     "metadata": {},
     "output_type": "execute_result"
    }
   ],
   "source": [
    "chunks_to_train_on = 50\n",
    "\n",
    "\n",
    "chunk_files = [os.path.join(\"../../trn_large_chunks/\", path) for path in os.listdir(\"../../trn_large_chunks/\")]\n",
    "\n",
    "random.seed(749812)\n",
    "random_files = random.sample(chunk_files, chunks_to_train_on)\n",
    "print(random_files)\n",
    "\n",
    "trn_dfs = []\n",
    "for file in tqdm(random_files):\n",
    "    trn_dfs.append(pl.read_parquet(file))\n",
    "\n",
    "trn_df = pl.concat(trn_dfs)\n",
    "\n",
    "del trn_dfs\n",
    "import gc; gc.collect()"
   ]
  },
  {
   "cell_type": "markdown",
   "metadata": {},
   "source": [
    "# Train"
   ]
  },
  {
   "cell_type": "code",
   "execution_count": 4,
   "metadata": {},
   "outputs": [],
   "source": [
    "target_col = 'is_clicked'\n",
    "drop_cols = [\n",
    "    'impression_id', 'impression_time','user_id','session_id','article_id',\n",
    "]"
   ]
  },
  {
   "cell_type": "code",
   "execution_count": 5,
   "metadata": {},
   "outputs": [
    {
     "name": "stderr",
     "output_type": "stream",
     "text": [
      "[2024-07-08 11:26:17,185][INFO] X_train shape: (66990965, 436), y_train shape: (66990965,)\n"
     ]
    }
   ],
   "source": [
    "X_train = trn_df.drop(drop_cols + [target_col]).to_pandas()\n",
    "y_train = trn_df[target_col].to_pandas()\n",
    "\n",
    "imp_train = trn_df['impression_id'].to_pandas()\n",
    "\n",
    "logger.info(f'X_train shape: {X_train.shape}, y_train shape: {y_train.shape}')\n",
    "\n",
    "X_train[\"category\"] = X_train[\"category\"].astype(\"category\")"
   ]
  },
  {
   "cell_type": "code",
   "execution_count": 6,
   "metadata": {},
   "outputs": [
    {
     "name": "stderr",
     "output_type": "stream",
     "text": [
      "[2024-07-08 11:26:19,311][INFO] X_valid shape: (2928942, 436), y_valid shape: (2928942,)\n"
     ]
    }
   ],
   "source": [
    "X_valid = val_df.drop(drop_cols + [target_col]).to_pandas()\n",
    "y_valid = val_df[target_col].to_pandas()\n",
    "\n",
    "imp_valid = val_df['impression_id'].to_pandas()\n",
    "\n",
    "logger.info(f'X_valid shape: {X_valid.shape}, y_valid shape: {y_valid.shape}')\n",
    "\n",
    "X_valid[\"category\"] = X_valid[\"category\"].astype(\"category\")"
   ]
  },
  {
   "cell_type": "code",
   "execution_count": 7,
   "metadata": {},
   "outputs": [],
   "source": [
    "from sklearn.metrics import roc_auc_score\n",
    "def get_mean_auc(y_pred,y_true,impression):\n",
    "    pred_df = pd.DataFrame({\n",
    "        'impression_id': impression,\n",
    "        'y_true': y_true,\n",
    "        'y_pred': y_pred\n",
    "    })\n",
    "\n",
    "    #save as valid_pred.parquet\n",
    "    pred_df.to_parquet('valid_pred.parquet')\n",
    "\n",
    "    group_auc = pred_df.groupby('impression_id').apply(lambda x: roc_auc_score(x['y_true'],x['y_pred'])).mean()\n",
    "\n",
    "    return group_auc"
   ]
  },
  {
   "cell_type": "code",
   "execution_count": 8,
   "metadata": {},
   "outputs": [
    {
     "data": {
      "text/plain": [
       "63"
      ]
     },
     "execution_count": 8,
     "metadata": {},
     "output_type": "execute_result"
    }
   ],
   "source": [
    "del trn_df, val_df\n",
    "import gc; gc.collect()"
   ]
  },
  {
   "cell_type": "markdown",
   "metadata": {},
   "source": [
    "## LightGBM"
   ]
  },
  {
   "cell_type": "code",
   "execution_count": 9,
   "metadata": {},
   "outputs": [],
   "source": [
    "lgb_params ={\n",
    "    'boosting_type': 'gbdt',\n",
    "    'objective': 'lambdarank',\n",
    "    'metric': 'ndcg',\n",
    "    'ndcg_eval_at':5,\n",
    "    'learning_rate': 0.01,\n",
    "    'feature_fraction': 0.9,\n",
    "    'bagging_fraction': 0.8,\n",
    "    'bagging_freq': 5,\n",
    "    'random_state': 758392,\n",
    "    'n_jobs': 80,\n",
    "}"
   ]
  },
  {
   "cell_type": "code",
   "execution_count": 10,
   "metadata": {
    "scrolled": true
   },
   "outputs": [
    {
     "name": "stdout",
     "output_type": "stream",
     "text": [
      "[LightGBM] [Warning] Auto-choosing col-wise multi-threading, the overhead of testing was 67.701322 seconds.\n",
      "You can set `force_col_wise=true` to remove the overhead.\n",
      "[LightGBM] [Info] Total Bins 102418\n",
      "[LightGBM] [Info] Number of data points in the train set: 66990965, number of used features: 436\n",
      "Training until validation scores don't improve for 1000 rounds\n",
      "[100]\tvalid_0's ndcg@5: 0.796587\n",
      "[200]\tvalid_0's ndcg@5: 0.80393\n",
      "[300]\tvalid_0's ndcg@5: 0.808823\n",
      "[400]\tvalid_0's ndcg@5: 0.813453\n",
      "[500]\tvalid_0's ndcg@5: 0.816538\n",
      "[600]\tvalid_0's ndcg@5: 0.819183\n",
      "[700]\tvalid_0's ndcg@5: 0.821152\n",
      "[800]\tvalid_0's ndcg@5: 0.822849\n",
      "[900]\tvalid_0's ndcg@5: 0.824356\n",
      "[1000]\tvalid_0's ndcg@5: 0.825655\n",
      "[1100]\tvalid_0's ndcg@5: 0.826653\n",
      "[1200]\tvalid_0's ndcg@5: 0.827543\n",
      "[1300]\tvalid_0's ndcg@5: 0.828406\n",
      "[1400]\tvalid_0's ndcg@5: 0.829173\n",
      "[1500]\tvalid_0's ndcg@5: 0.829858\n",
      "[1600]\tvalid_0's ndcg@5: 0.830443\n",
      "[1700]\tvalid_0's ndcg@5: 0.83091\n",
      "[1800]\tvalid_0's ndcg@5: 0.831337\n",
      "[1900]\tvalid_0's ndcg@5: 0.831791\n",
      "[2000]\tvalid_0's ndcg@5: 0.832127\n",
      "[2100]\tvalid_0's ndcg@5: 0.832545\n",
      "[2200]\tvalid_0's ndcg@5: 0.832962\n",
      "[2300]\tvalid_0's ndcg@5: 0.833321\n",
      "[2400]\tvalid_0's ndcg@5: 0.833656\n",
      "[2500]\tvalid_0's ndcg@5: 0.833962\n",
      "[2600]\tvalid_0's ndcg@5: 0.834162\n",
      "[2700]\tvalid_0's ndcg@5: 0.834455\n",
      "[2800]\tvalid_0's ndcg@5: 0.834626\n",
      "[2900]\tvalid_0's ndcg@5: 0.834928\n",
      "[3000]\tvalid_0's ndcg@5: 0.835113\n",
      "[3100]\tvalid_0's ndcg@5: 0.835308\n",
      "[3200]\tvalid_0's ndcg@5: 0.835555\n",
      "[3300]\tvalid_0's ndcg@5: 0.83571\n",
      "[3400]\tvalid_0's ndcg@5: 0.835816\n",
      "[3500]\tvalid_0's ndcg@5: 0.836003\n",
      "[3600]\tvalid_0's ndcg@5: 0.836217\n",
      "[3700]\tvalid_0's ndcg@5: 0.836339\n",
      "[3800]\tvalid_0's ndcg@5: 0.836513\n",
      "[3900]\tvalid_0's ndcg@5: 0.836661\n",
      "[4000]\tvalid_0's ndcg@5: 0.836846\n",
      "[4100]\tvalid_0's ndcg@5: 0.83704\n",
      "[4200]\tvalid_0's ndcg@5: 0.837095\n",
      "[4300]\tvalid_0's ndcg@5: 0.837252\n",
      "[4400]\tvalid_0's ndcg@5: 0.83732\n",
      "[4500]\tvalid_0's ndcg@5: 0.837399\n",
      "[4600]\tvalid_0's ndcg@5: 0.837558\n",
      "[4700]\tvalid_0's ndcg@5: 0.837676\n",
      "[4800]\tvalid_0's ndcg@5: 0.837736\n",
      "[4900]\tvalid_0's ndcg@5: 0.837837\n",
      "[5000]\tvalid_0's ndcg@5: 0.837901\n",
      "[5100]\tvalid_0's ndcg@5: 0.837921\n",
      "[5200]\tvalid_0's ndcg@5: 0.838104\n",
      "[5300]\tvalid_0's ndcg@5: 0.838204\n",
      "[5400]\tvalid_0's ndcg@5: 0.838346\n",
      "[5500]\tvalid_0's ndcg@5: 0.838423\n",
      "[5600]\tvalid_0's ndcg@5: 0.838512\n",
      "[5700]\tvalid_0's ndcg@5: 0.83855\n",
      "[5800]\tvalid_0's ndcg@5: 0.838638\n",
      "[5900]\tvalid_0's ndcg@5: 0.83874\n",
      "[6000]\tvalid_0's ndcg@5: 0.838836\n",
      "[6100]\tvalid_0's ndcg@5: 0.838905\n",
      "[6200]\tvalid_0's ndcg@5: 0.83899\n",
      "[6300]\tvalid_0's ndcg@5: 0.839015\n",
      "[6400]\tvalid_0's ndcg@5: 0.839063\n",
      "[6500]\tvalid_0's ndcg@5: 0.839085\n",
      "[6600]\tvalid_0's ndcg@5: 0.839154\n",
      "[6700]\tvalid_0's ndcg@5: 0.839172\n",
      "[6800]\tvalid_0's ndcg@5: 0.839292\n",
      "[6900]\tvalid_0's ndcg@5: 0.839355\n",
      "[7000]\tvalid_0's ndcg@5: 0.839395\n",
      "[7100]\tvalid_0's ndcg@5: 0.839421\n",
      "[7200]\tvalid_0's ndcg@5: 0.839515\n",
      "[7300]\tvalid_0's ndcg@5: 0.839549\n",
      "[7400]\tvalid_0's ndcg@5: 0.839569\n",
      "[7500]\tvalid_0's ndcg@5: 0.839672\n",
      "[7600]\tvalid_0's ndcg@5: 0.839684\n",
      "[7700]\tvalid_0's ndcg@5: 0.839707\n",
      "[7800]\tvalid_0's ndcg@5: 0.839723\n",
      "[7900]\tvalid_0's ndcg@5: 0.839766\n",
      "[8000]\tvalid_0's ndcg@5: 0.839775\n",
      "[8100]\tvalid_0's ndcg@5: 0.839854\n",
      "[8200]\tvalid_0's ndcg@5: 0.839882\n",
      "[8300]\tvalid_0's ndcg@5: 0.839905\n",
      "[8400]\tvalid_0's ndcg@5: 0.839952\n",
      "[8500]\tvalid_0's ndcg@5: 0.840016\n",
      "[8600]\tvalid_0's ndcg@5: 0.840058\n",
      "[8700]\tvalid_0's ndcg@5: 0.840098\n",
      "[8800]\tvalid_0's ndcg@5: 0.840149\n",
      "[8900]\tvalid_0's ndcg@5: 0.840176\n",
      "[9000]\tvalid_0's ndcg@5: 0.840256\n",
      "[9100]\tvalid_0's ndcg@5: 0.8403\n",
      "[9200]\tvalid_0's ndcg@5: 0.840361\n",
      "[9300]\tvalid_0's ndcg@5: 0.84041\n",
      "[9400]\tvalid_0's ndcg@5: 0.84044\n",
      "[9500]\tvalid_0's ndcg@5: 0.840454\n",
      "[9600]\tvalid_0's ndcg@5: 0.840474\n",
      "[9700]\tvalid_0's ndcg@5: 0.840468\n",
      "[9800]\tvalid_0's ndcg@5: 0.840533\n",
      "[9900]\tvalid_0's ndcg@5: 0.840624\n",
      "[10000]\tvalid_0's ndcg@5: 0.840651\n",
      "[10100]\tvalid_0's ndcg@5: 0.84067\n",
      "[10200]\tvalid_0's ndcg@5: 0.840695\n",
      "[10300]\tvalid_0's ndcg@5: 0.840739\n",
      "[10400]\tvalid_0's ndcg@5: 0.840754\n",
      "[10500]\tvalid_0's ndcg@5: 0.840782\n",
      "[10600]\tvalid_0's ndcg@5: 0.840821\n",
      "[10700]\tvalid_0's ndcg@5: 0.840846\n",
      "[10800]\tvalid_0's ndcg@5: 0.840886\n",
      "[10900]\tvalid_0's ndcg@5: 0.840889\n",
      "[11000]\tvalid_0's ndcg@5: 0.840904\n",
      "[11100]\tvalid_0's ndcg@5: 0.840906\n",
      "[11200]\tvalid_0's ndcg@5: 0.840895\n",
      "[11300]\tvalid_0's ndcg@5: 0.840875\n",
      "[11400]\tvalid_0's ndcg@5: 0.840933\n",
      "[11500]\tvalid_0's ndcg@5: 0.840938\n",
      "[11600]\tvalid_0's ndcg@5: 0.841018\n",
      "[11700]\tvalid_0's ndcg@5: 0.841055\n",
      "[11800]\tvalid_0's ndcg@5: 0.841029\n",
      "[11900]\tvalid_0's ndcg@5: 0.841044\n",
      "[12000]\tvalid_0's ndcg@5: 0.841137\n",
      "[12100]\tvalid_0's ndcg@5: 0.841108\n",
      "[12200]\tvalid_0's ndcg@5: 0.841109\n",
      "[12300]\tvalid_0's ndcg@5: 0.841103\n",
      "[12400]\tvalid_0's ndcg@5: 0.841138\n",
      "[12500]\tvalid_0's ndcg@5: 0.841154\n",
      "[12600]\tvalid_0's ndcg@5: 0.841147\n",
      "[12700]\tvalid_0's ndcg@5: 0.841189\n",
      "[12800]\tvalid_0's ndcg@5: 0.841187\n",
      "[12900]\tvalid_0's ndcg@5: 0.84121\n",
      "[13000]\tvalid_0's ndcg@5: 0.841237\n",
      "[13200]\tvalid_0's ndcg@5: 0.841215\n",
      "[13300]\tvalid_0's ndcg@5: 0.841264\n",
      "[13400]\tvalid_0's ndcg@5: 0.841301\n",
      "[13500]\tvalid_0's ndcg@5: 0.841318\n",
      "[13600]\tvalid_0's ndcg@5: 0.841316\n",
      "[13700]\tvalid_0's ndcg@5: 0.841336\n",
      "[13800]\tvalid_0's ndcg@5: 0.841389\n",
      "[13900]\tvalid_0's ndcg@5: 0.841385\n",
      "[14000]\tvalid_0's ndcg@5: 0.841393\n",
      "[14100]\tvalid_0's ndcg@5: 0.841418\n",
      "[14200]\tvalid_0's ndcg@5: 0.841433\n",
      "[14300]\tvalid_0's ndcg@5: 0.841468\n",
      "[14400]\tvalid_0's ndcg@5: 0.841444\n",
      "[14500]\tvalid_0's ndcg@5: 0.841486\n",
      "[14600]\tvalid_0's ndcg@5: 0.841538\n",
      "[14700]\tvalid_0's ndcg@5: 0.841545\n",
      "[14800]\tvalid_0's ndcg@5: 0.8416\n",
      "[14900]\tvalid_0's ndcg@5: 0.841588\n",
      "[15000]\tvalid_0's ndcg@5: 0.841621\n",
      "[15100]\tvalid_0's ndcg@5: 0.841588\n",
      "[15200]\tvalid_0's ndcg@5: 0.841642\n",
      "[15300]\tvalid_0's ndcg@5: 0.841656\n",
      "[15400]\tvalid_0's ndcg@5: 0.841703\n",
      "[15500]\tvalid_0's ndcg@5: 0.841687\n",
      "[15600]\tvalid_0's ndcg@5: 0.841676\n",
      "[15700]\tvalid_0's ndcg@5: 0.841736\n",
      "[15800]\tvalid_0's ndcg@5: 0.841718\n",
      "[15900]\tvalid_0's ndcg@5: 0.84179\n",
      "[16000]\tvalid_0's ndcg@5: 0.841786\n",
      "[16100]\tvalid_0's ndcg@5: 0.841783\n",
      "[16200]\tvalid_0's ndcg@5: 0.841809\n",
      "[16300]\tvalid_0's ndcg@5: 0.841823\n",
      "[16400]\tvalid_0's ndcg@5: 0.841812\n",
      "[16500]\tvalid_0's ndcg@5: 0.841815\n",
      "[16600]\tvalid_0's ndcg@5: 0.841823\n",
      "[16700]\tvalid_0's ndcg@5: 0.841854\n",
      "[16800]\tvalid_0's ndcg@5: 0.841887\n",
      "[16900]\tvalid_0's ndcg@5: 0.841894\n",
      "[17000]\tvalid_0's ndcg@5: 0.841885\n",
      "[17100]\tvalid_0's ndcg@5: 0.841887\n",
      "[17200]\tvalid_0's ndcg@5: 0.841918\n",
      "[17300]\tvalid_0's ndcg@5: 0.841928\n",
      "[17400]\tvalid_0's ndcg@5: 0.841956\n",
      "[17500]\tvalid_0's ndcg@5: 0.841984\n",
      "[17600]\tvalid_0's ndcg@5: 0.842032\n",
      "[17700]\tvalid_0's ndcg@5: 0.842044\n",
      "[17800]\tvalid_0's ndcg@5: 0.842053\n",
      "[17900]\tvalid_0's ndcg@5: 0.842104\n",
      "[18000]\tvalid_0's ndcg@5: 0.842128\n",
      "[18100]\tvalid_0's ndcg@5: 0.842153\n",
      "[18200]\tvalid_0's ndcg@5: 0.84215\n",
      "[18300]\tvalid_0's ndcg@5: 0.842166\n",
      "[18400]\tvalid_0's ndcg@5: 0.842171\n",
      "[18500]\tvalid_0's ndcg@5: 0.842163\n",
      "[18600]\tvalid_0's ndcg@5: 0.842176\n",
      "[18700]\tvalid_0's ndcg@5: 0.842205\n",
      "[18800]\tvalid_0's ndcg@5: 0.842219\n",
      "[18900]\tvalid_0's ndcg@5: 0.842205\n",
      "[19000]\tvalid_0's ndcg@5: 0.842263\n",
      "[19100]\tvalid_0's ndcg@5: 0.842254\n",
      "[19200]\tvalid_0's ndcg@5: 0.842252\n",
      "[19300]\tvalid_0's ndcg@5: 0.842271\n",
      "[19400]\tvalid_0's ndcg@5: 0.842275\n",
      "[19500]\tvalid_0's ndcg@5: 0.842296\n",
      "[19600]\tvalid_0's ndcg@5: 0.842339\n",
      "[19700]\tvalid_0's ndcg@5: 0.842359\n",
      "[19800]\tvalid_0's ndcg@5: 0.842366\n",
      "[19900]\tvalid_0's ndcg@5: 0.842364\n",
      "[20000]\tvalid_0's ndcg@5: 0.842401\n",
      "[20100]\tvalid_0's ndcg@5: 0.842383\n",
      "[20200]\tvalid_0's ndcg@5: 0.842401\n",
      "[20300]\tvalid_0's ndcg@5: 0.84242\n",
      "[20400]\tvalid_0's ndcg@5: 0.842419\n",
      "[20500]\tvalid_0's ndcg@5: 0.842431\n",
      "[20600]\tvalid_0's ndcg@5: 0.842439\n",
      "[20700]\tvalid_0's ndcg@5: 0.842449\n",
      "[20800]\tvalid_0's ndcg@5: 0.842424\n",
      "[20900]\tvalid_0's ndcg@5: 0.842432\n",
      "[21000]\tvalid_0's ndcg@5: 0.842454\n",
      "[21100]\tvalid_0's ndcg@5: 0.842459\n",
      "[21200]\tvalid_0's ndcg@5: 0.842473\n",
      "[21300]\tvalid_0's ndcg@5: 0.84251\n",
      "[21400]\tvalid_0's ndcg@5: 0.84247\n",
      "[21500]\tvalid_0's ndcg@5: 0.842476\n",
      "[21600]\tvalid_0's ndcg@5: 0.842482\n",
      "[21700]\tvalid_0's ndcg@5: 0.842483\n",
      "[21800]\tvalid_0's ndcg@5: 0.842494\n",
      "[21900]\tvalid_0's ndcg@5: 0.842555\n",
      "[22000]\tvalid_0's ndcg@5: 0.842557\n",
      "[22100]\tvalid_0's ndcg@5: 0.842559\n",
      "[22200]\tvalid_0's ndcg@5: 0.842559\n",
      "[22300]\tvalid_0's ndcg@5: 0.842581\n",
      "[22400]\tvalid_0's ndcg@5: 0.842581\n",
      "[22500]\tvalid_0's ndcg@5: 0.842623\n",
      "[22600]\tvalid_0's ndcg@5: 0.842654\n",
      "[22700]\tvalid_0's ndcg@5: 0.842671\n",
      "[22800]\tvalid_0's ndcg@5: 0.842678\n",
      "[22900]\tvalid_0's ndcg@5: 0.84273\n"
     ]
    },
    {
     "name": "stdout",
     "output_type": "stream",
     "text": [
      "[23000]\tvalid_0's ndcg@5: 0.842767\n",
      "[23100]\tvalid_0's ndcg@5: 0.842743\n",
      "[23200]\tvalid_0's ndcg@5: 0.842804\n",
      "[23300]\tvalid_0's ndcg@5: 0.842819\n",
      "[23400]\tvalid_0's ndcg@5: 0.842829\n",
      "[23500]\tvalid_0's ndcg@5: 0.842818\n",
      "[23600]\tvalid_0's ndcg@5: 0.842777\n",
      "[23700]\tvalid_0's ndcg@5: 0.842761\n",
      "[23800]\tvalid_0's ndcg@5: 0.842762\n",
      "[23900]\tvalid_0's ndcg@5: 0.842752\n",
      "[24000]\tvalid_0's ndcg@5: 0.842769\n",
      "[24100]\tvalid_0's ndcg@5: 0.842812\n",
      "[24200]\tvalid_0's ndcg@5: 0.842828\n",
      "[24300]\tvalid_0's ndcg@5: 0.842851\n",
      "[24400]\tvalid_0's ndcg@5: 0.842851\n",
      "[24500]\tvalid_0's ndcg@5: 0.842895\n",
      "[24600]\tvalid_0's ndcg@5: 0.842913\n",
      "[24700]\tvalid_0's ndcg@5: 0.842899\n",
      "[24800]\tvalid_0's ndcg@5: 0.84294\n",
      "[24900]\tvalid_0's ndcg@5: 0.842971\n",
      "[25000]\tvalid_0's ndcg@5: 0.842951\n",
      "[25100]\tvalid_0's ndcg@5: 0.842968\n",
      "[25200]\tvalid_0's ndcg@5: 0.842965\n",
      "[25300]\tvalid_0's ndcg@5: 0.84297\n",
      "[25400]\tvalid_0's ndcg@5: 0.842972\n",
      "[25600]\tvalid_0's ndcg@5: 0.842988\n",
      "[25700]\tvalid_0's ndcg@5: 0.842995\n",
      "[25800]\tvalid_0's ndcg@5: 0.84298\n",
      "[25900]\tvalid_0's ndcg@5: 0.842997\n",
      "[26000]\tvalid_0's ndcg@5: 0.843027\n",
      "[26100]\tvalid_0's ndcg@5: 0.843028\n",
      "[26200]\tvalid_0's ndcg@5: 0.843002\n",
      "[26300]\tvalid_0's ndcg@5: 0.843006\n",
      "[26400]\tvalid_0's ndcg@5: 0.843029\n",
      "[26500]\tvalid_0's ndcg@5: 0.843051\n",
      "[26600]\tvalid_0's ndcg@5: 0.843051\n",
      "[26700]\tvalid_0's ndcg@5: 0.843053\n",
      "[26800]\tvalid_0's ndcg@5: 0.843067\n",
      "[26900]\tvalid_0's ndcg@5: 0.843069\n",
      "[27000]\tvalid_0's ndcg@5: 0.843067\n",
      "[27100]\tvalid_0's ndcg@5: 0.843101\n",
      "[27200]\tvalid_0's ndcg@5: 0.843109\n",
      "[27300]\tvalid_0's ndcg@5: 0.84311\n",
      "[27400]\tvalid_0's ndcg@5: 0.843112\n",
      "[27500]\tvalid_0's ndcg@5: 0.843116\n",
      "[27600]\tvalid_0's ndcg@5: 0.843102\n",
      "[27700]\tvalid_0's ndcg@5: 0.843097\n",
      "[27800]\tvalid_0's ndcg@5: 0.843127\n",
      "[27900]\tvalid_0's ndcg@5: 0.843102\n",
      "[28000]\tvalid_0's ndcg@5: 0.843116\n",
      "[28100]\tvalid_0's ndcg@5: 0.843116\n",
      "[28200]\tvalid_0's ndcg@5: 0.843123\n",
      "[28300]\tvalid_0's ndcg@5: 0.843133\n",
      "[28400]\tvalid_0's ndcg@5: 0.843135\n",
      "[28500]\tvalid_0's ndcg@5: 0.843151\n",
      "[28600]\tvalid_0's ndcg@5: 0.843171\n",
      "[28700]\tvalid_0's ndcg@5: 0.84316\n",
      "[28800]\tvalid_0's ndcg@5: 0.843146\n",
      "[28900]\tvalid_0's ndcg@5: 0.843118\n",
      "[29000]\tvalid_0's ndcg@5: 0.843097\n",
      "[29100]\tvalid_0's ndcg@5: 0.843128\n",
      "[29200]\tvalid_0's ndcg@5: 0.843112\n",
      "[29300]\tvalid_0's ndcg@5: 0.843125\n",
      "[29400]\tvalid_0's ndcg@5: 0.843148\n",
      "[29500]\tvalid_0's ndcg@5: 0.84316\n",
      "[29600]\tvalid_0's ndcg@5: 0.843159\n",
      "[29700]\tvalid_0's ndcg@5: 0.84319\n",
      "[29800]\tvalid_0's ndcg@5: 0.843201\n",
      "[29900]\tvalid_0's ndcg@5: 0.84323\n",
      "[30000]\tvalid_0's ndcg@5: 0.843217\n",
      "[30100]\tvalid_0's ndcg@5: 0.843223\n",
      "[30200]\tvalid_0's ndcg@5: 0.843251\n",
      "[30300]\tvalid_0's ndcg@5: 0.843268\n",
      "[30400]\tvalid_0's ndcg@5: 0.843297\n",
      "[30500]\tvalid_0's ndcg@5: 0.843296\n",
      "[30600]\tvalid_0's ndcg@5: 0.843276\n",
      "[30700]\tvalid_0's ndcg@5: 0.843287\n",
      "[30800]\tvalid_0's ndcg@5: 0.843297\n",
      "[30900]\tvalid_0's ndcg@5: 0.843314\n",
      "[31000]\tvalid_0's ndcg@5: 0.843309\n",
      "[31100]\tvalid_0's ndcg@5: 0.843296\n",
      "[31200]\tvalid_0's ndcg@5: 0.843296\n",
      "[31300]\tvalid_0's ndcg@5: 0.843296\n",
      "[31400]\tvalid_0's ndcg@5: 0.843292\n",
      "[31500]\tvalid_0's ndcg@5: 0.843309\n",
      "[31600]\tvalid_0's ndcg@5: 0.843294\n",
      "[31700]\tvalid_0's ndcg@5: 0.843287\n",
      "[31800]\tvalid_0's ndcg@5: 0.843292\n",
      "[31900]\tvalid_0's ndcg@5: 0.843318\n",
      "[32000]\tvalid_0's ndcg@5: 0.843326\n",
      "[32100]\tvalid_0's ndcg@5: 0.843296\n",
      "[32200]\tvalid_0's ndcg@5: 0.843302\n",
      "[32300]\tvalid_0's ndcg@5: 0.8433\n",
      "[32400]\tvalid_0's ndcg@5: 0.8433\n",
      "[32500]\tvalid_0's ndcg@5: 0.843327\n",
      "[32600]\tvalid_0's ndcg@5: 0.84333\n",
      "[32700]\tvalid_0's ndcg@5: 0.84332\n",
      "[32800]\tvalid_0's ndcg@5: 0.843332\n",
      "[32900]\tvalid_0's ndcg@5: 0.843341\n",
      "[33000]\tvalid_0's ndcg@5: 0.843345\n",
      "[33100]\tvalid_0's ndcg@5: 0.843359\n",
      "[33200]\tvalid_0's ndcg@5: 0.843377\n",
      "[33300]\tvalid_0's ndcg@5: 0.843378\n",
      "[33400]\tvalid_0's ndcg@5: 0.843374\n",
      "[33500]\tvalid_0's ndcg@5: 0.843379\n",
      "[33600]\tvalid_0's ndcg@5: 0.843387\n",
      "[33700]\tvalid_0's ndcg@5: 0.843384\n",
      "[33800]\tvalid_0's ndcg@5: 0.843379\n",
      "[33900]\tvalid_0's ndcg@5: 0.843423\n",
      "[34000]\tvalid_0's ndcg@5: 0.843435\n",
      "[34100]\tvalid_0's ndcg@5: 0.843419\n",
      "[34200]\tvalid_0's ndcg@5: 0.843408\n",
      "[34300]\tvalid_0's ndcg@5: 0.843438\n",
      "[34400]\tvalid_0's ndcg@5: 0.843427\n",
      "[34500]\tvalid_0's ndcg@5: 0.843434\n",
      "[34600]\tvalid_0's ndcg@5: 0.84344\n",
      "[34700]\tvalid_0's ndcg@5: 0.843468\n",
      "[34800]\tvalid_0's ndcg@5: 0.843464\n",
      "[34900]\tvalid_0's ndcg@5: 0.843481\n",
      "[35000]\tvalid_0's ndcg@5: 0.843479\n",
      "[35100]\tvalid_0's ndcg@5: 0.843482\n",
      "[35200]\tvalid_0's ndcg@5: 0.843475\n",
      "[35300]\tvalid_0's ndcg@5: 0.843486\n",
      "[35400]\tvalid_0's ndcg@5: 0.8435\n",
      "[35500]\tvalid_0's ndcg@5: 0.843489\n",
      "[35600]\tvalid_0's ndcg@5: 0.843489\n",
      "[35700]\tvalid_0's ndcg@5: 0.843488\n",
      "[35800]\tvalid_0's ndcg@5: 0.843459\n",
      "[35900]\tvalid_0's ndcg@5: 0.843472\n",
      "[36000]\tvalid_0's ndcg@5: 0.843476\n",
      "[36100]\tvalid_0's ndcg@5: 0.843475\n",
      "[36200]\tvalid_0's ndcg@5: 0.84346\n",
      "[36300]\tvalid_0's ndcg@5: 0.843476\n",
      "Early stopping, best iteration is:\n",
      "[35357]\tvalid_0's ndcg@5: 0.843513\n"
     ]
    },
    {
     "name": "stderr",
     "output_type": "stream",
     "text": [
      "[2024-07-09 22:32:10,439][INFO] best_iter: 35357, best_score: 0.8435126834192713\n"
     ]
    },
    {
     "data": {
      "image/png": "[encoded data removed]",
      "text/plain": [
       "<Figure size 1152x1152 with 1 Axes>"
      ]
     },
     "metadata": {
      "needs_background": "light"
     },
     "output_type": "display_data"
    },
    {
     "name": "stdout",
     "output_type": "stream",
     "text": [
      "CPU times: user 101d 18h 29min 12s, sys: 1h 9min 33s, total: 101d 19h 38min 45s\n",
      "Wall time: 1d 11h 5min 42s\n"
     ]
    }
   ],
   "source": [
    "%%time\n",
    "#train\n",
    "callbacks = [\n",
    "    lgb.early_stopping(stopping_rounds=1000, verbose=True),\n",
    "    lgb.log_evaluation(period=100)\n",
    "]\n",
    "\n",
    "group_train = imp_train.groupby(imp_train).count().to_numpy()\n",
    "group_valid = imp_valid.groupby(imp_valid).count().to_numpy()\n",
    "\n",
    "lgb_train = lgb.Dataset(X_train, label=y_train,group=group_train)\n",
    "lgb_valid = lgb.Dataset(X_valid, label=y_valid,group=group_valid, reference=lgb_train)\n",
    "\n",
    "lgb_model = lgb.train(\n",
    "    lgb_params,\n",
    "    lgb_train,\n",
    "    valid_sets=[lgb_valid],\n",
    "    num_boost_round=300000,\n",
    "    callbacks=callbacks\n",
    ")\n",
    "\n",
    "#best_iter, best_score\n",
    "best_iter = lgb_model.best_iteration\n",
    "best_score = lgb_model.best_score['valid_0']['ndcg@5']\n",
    "\n",
    "logger.info(f'best_iter: {best_iter}, best_score: {best_score}')\n",
    "\n",
    "#feature importance\n",
    "feature_importance = lgb_model.feature_importance(importance_type='gain')\n",
    "feature_name = lgb_model.feature_name()\n",
    "\n",
    "feature_importance_df = pd.DataFrame({\n",
    "    'feature_name': feature_name,\n",
    "    'importance': feature_importance\n",
    "})\n",
    "\n",
    "feature_importance_df = feature_importance_df.sort_values('importance', ascending=False)\n",
    "\n",
    "#plot\n",
    "plt.figure(figsize=(16, 16))\n",
    "sns.barplot(data=feature_importance_df.head(50), x='importance', y='feature_name')\n",
    "plt.show()"
   ]
  },
  {
   "cell_type": "code",
   "execution_count": 11,
   "metadata": {},
   "outputs": [
    {
     "name": "stderr",
     "output_type": "stream",
     "text": [
      "[2024-07-09 22:42:52,726][INFO] group_auc: 0.8581575211443674\n"
     ]
    }
   ],
   "source": [
    "group_auc = get_mean_auc(lgb_model.predict(X_valid),y_valid,imp_valid)\n",
    "logger.info(f'group_auc: {group_auc}')"
   ]
  },
  {
   "cell_type": "code",
   "execution_count": 12,
   "metadata": {},
   "outputs": [
    {
     "data": {
      "text/plain": [
       "(66990965, 436)"
      ]
     },
     "execution_count": 12,
     "metadata": {},
     "output_type": "execute_result"
    }
   ],
   "source": [
    "X_train.shape"
   ]
  },
  {
   "cell_type": "code",
   "execution_count": null,
   "metadata": {},
   "outputs": [],
   "source": []
  }
 ],
 "metadata": {
  "kernelspec": {
   "display_name": "Python 3 (ipykernel)",
   "language": "python",
   "name": "python3"
  },
  "language_info": {
   "codemirror_mode": {
    "name": "ipython",
    "version": 3
   },
   "file_extension": ".py",
   "mimetype": "text/x-python",
   "name": "python",
   "nbconvert_exporter": "python",
   "pygments_lexer": "ipython3",
   "version": "3.7.12"
  }
 },
 "nbformat": 4,
 "nbformat_minor": 4
}
