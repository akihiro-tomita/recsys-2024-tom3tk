{
 "cells": [
  {
   "cell_type": "markdown",
   "metadata": {},
   "source": [
    "# Load Libraries"
   ]
  },
  {
   "cell_type": "code",
   "execution_count": 1,
   "metadata": {},
   "outputs": [
    {
     "data": {
      "text/html": [
       "<style type='text/css'>\n",
       ".datatable table.frame { margin-bottom: 0; }\n",
       ".datatable table.frame thead { border-bottom: none; }\n",
       ".datatable table.frame tr.coltypes td {  color: #FFFFFF;  line-height: 6px;  padding: 0 0.5em;}\n",
       ".datatable .bool    { background: #DDDD99; }\n",
       ".datatable .object  { background: #565656; }\n",
       ".datatable .int     { background: #5D9E5D; }\n",
       ".datatable .float   { background: #4040CC; }\n",
       ".datatable .str     { background: #CC4040; }\n",
       ".datatable .time    { background: #40CC40; }\n",
       ".datatable .row_index {  background: var(--jp-border-color3);  border-right: 1px solid var(--jp-border-color0);  color: var(--jp-ui-font-color3);  font-size: 9px;}\n",
       ".datatable .frame tbody td { text-align: left; }\n",
       ".datatable .frame tr.coltypes .row_index {  background: var(--jp-border-color0);}\n",
       ".datatable th:nth-child(2) { padding-left: 12px; }\n",
       ".datatable .hellipsis {  color: var(--jp-cell-editor-border-color);}\n",
       ".datatable .vellipsis {  background: var(--jp-layout-color0);  color: var(--jp-cell-editor-border-color);}\n",
       ".datatable .na {  color: var(--jp-cell-editor-border-color);  font-size: 80%;}\n",
       ".datatable .sp {  opacity: 0.25;}\n",
       ".datatable .footer { font-size: 9px; }\n",
       ".datatable .frame_dimensions {  background: var(--jp-border-color3);  border-top: 1px solid var(--jp-border-color0);  color: var(--jp-ui-font-color3);  display: inline-block;  opacity: 0.6;  padding: 1px 10px 1px 5px;}\n",
       "</style>\n"
      ],
      "text/plain": [
       "<IPython.core.display.HTML object>"
      ]
     },
     "metadata": {},
     "output_type": "display_data"
    }
   ],
   "source": [
    "import os\n",
    "os.sched_setaffinity(0, range(0,96))\n",
    "\n",
    "from pathlib import Path\n",
    "\n",
    "import pandas as pd\n",
    "import polars as pl\n",
    "\n",
    "import lightgbm as lgb\n",
    "import matplotlib.pyplot as plt\n",
    "import random\n",
    "import seaborn as sns\n",
    "\n",
    "from tqdm import tqdm\n",
    "\n",
    "import warnings\n",
    "\n",
    "warnings.filterwarnings('ignore')\n",
    "\n",
    "# Logging\n",
    "import logging\n",
    "\n",
    "# Get logger\n",
    "logger = logging.getLogger(__name__)\n",
    "logger.setLevel(logging.DEBUG)\n",
    "file_handler = logging.FileHandler('logs.log')\n",
    "\n",
    "# Set log format\n",
    "formatter = logging.Formatter('[%(asctime)s][%(levelname)s] %(message)s')\n",
    "file_handler.setFormatter(formatter)\n",
    "logger.addHandler(file_handler)\n",
    "\n",
    "# Settings to display log on notebook\n",
    "stream_handler = logging.StreamHandler()\n",
    "stream_handler.setFormatter(formatter)\n",
    "logger.addHandler(stream_handler)"
   ]
  },
  {
   "cell_type": "markdown",
   "metadata": {},
   "source": [
    "# Data Load"
   ]
  },
  {
   "cell_type": "code",
   "execution_count": 2,
   "metadata": {},
   "outputs": [],
   "source": [
    "INPUT_DIR = Path(\"/home/code_for_sub/3.ablation/1.leaky\")\n",
    "\n",
    "val_df = pl.read_parquet(INPUT_DIR / \"validation\" / \"val_df.parquet\")"
   ]
  },
  {
   "cell_type": "code",
   "execution_count": 3,
   "metadata": {
    "scrolled": true
   },
   "outputs": [
    {
     "name": "stdout",
     "output_type": "stream",
     "text": [
      "['../../trn_large_chunks/trn_df_chunk13.parquet', '../../trn_large_chunks/trn_df_chunk49.parquet', '../../trn_large_chunks/trn_df_chunk38.parquet', '../../trn_large_chunks/trn_df_chunk9.parquet', '../../trn_large_chunks/trn_df_chunk90.parquet', '../../trn_large_chunks/trn_df_chunk12.parquet', '../../trn_large_chunks/trn_df_chunk8.parquet', '../../trn_large_chunks/trn_df_chunk0.parquet', '../../trn_large_chunks/trn_df_chunk91.parquet', '../../trn_large_chunks/trn_df_chunk55.parquet', '../../trn_large_chunks/trn_df_chunk53.parquet', '../../trn_large_chunks/trn_df_chunk61.parquet', '../../trn_large_chunks/trn_df_chunk45.parquet', '../../trn_large_chunks/trn_df_chunk15.parquet', '../../trn_large_chunks/trn_df_chunk86.parquet', '../../trn_large_chunks/trn_df_chunk88.parquet', '../../trn_large_chunks/trn_df_chunk59.parquet', '../../trn_large_chunks/trn_df_chunk81.parquet', '../../trn_large_chunks/trn_df_chunk47.parquet', '../../trn_large_chunks/trn_df_chunk4.parquet', '../../trn_large_chunks/trn_df_chunk37.parquet', '../../trn_large_chunks/trn_df_chunk93.parquet', '../../trn_large_chunks/trn_df_chunk5.parquet', '../../trn_large_chunks/trn_df_chunk7.parquet', '../../trn_large_chunks/trn_df_chunk51.parquet', '../../trn_large_chunks/trn_df_chunk73.parquet', '../../trn_large_chunks/trn_df_chunk71.parquet', '../../trn_large_chunks/trn_df_chunk54.parquet', '../../trn_large_chunks/trn_df_chunk10.parquet', '../../trn_large_chunks/trn_df_chunk33.parquet', '../../trn_large_chunks/trn_df_chunk14.parquet', '../../trn_large_chunks/trn_df_chunk76.parquet', '../../trn_large_chunks/trn_df_chunk94.parquet', '../../trn_large_chunks/trn_df_chunk23.parquet', '../../trn_large_chunks/trn_df_chunk57.parquet', '../../trn_large_chunks/trn_df_chunk84.parquet', '../../trn_large_chunks/trn_df_chunk74.parquet', '../../trn_large_chunks/trn_df_chunk24.parquet', '../../trn_large_chunks/trn_df_chunk29.parquet', '../../trn_large_chunks/trn_df_chunk63.parquet', '../../trn_large_chunks/trn_df_chunk67.parquet', '../../trn_large_chunks/trn_df_chunk41.parquet', '../../trn_large_chunks/trn_df_chunk26.parquet', '../../trn_large_chunks/trn_df_chunk62.parquet', '../../trn_large_chunks/trn_df_chunk2.parquet', '../../trn_large_chunks/trn_df_chunk16.parquet', '../../trn_large_chunks/trn_df_chunk82.parquet', '../../trn_large_chunks/trn_df_chunk27.parquet', '../../trn_large_chunks/trn_df_chunk19.parquet', '../../trn_large_chunks/trn_df_chunk96.parquet', '../../trn_large_chunks/trn_df_chunk72.parquet', '../../trn_large_chunks/trn_df_chunk20.parquet', '../../trn_large_chunks/trn_df_chunk17.parquet', '../../trn_large_chunks/trn_df_chunk11.parquet', '../../trn_large_chunks/trn_df_chunk36.parquet', '../../trn_large_chunks/trn_df_chunk39.parquet', '../../trn_large_chunks/trn_df_chunk48.parquet', '../../trn_large_chunks/trn_df_chunk35.parquet', '../../trn_large_chunks/trn_df_chunk44.parquet', '../../trn_large_chunks/trn_df_chunk43.parquet', '../../trn_large_chunks/trn_df_chunk18.parquet', '../../trn_large_chunks/trn_df_chunk92.parquet', '../../trn_large_chunks/trn_df_chunk85.parquet', '../../trn_large_chunks/trn_df_chunk99.parquet', '../../trn_large_chunks/trn_df_chunk46.parquet', '../../trn_large_chunks/trn_df_chunk83.parquet', '../../trn_large_chunks/trn_df_chunk69.parquet', '../../trn_large_chunks/trn_df_chunk1.parquet', '../../trn_large_chunks/trn_df_chunk32.parquet', '../../trn_large_chunks/trn_df_chunk21.parquet', '../../trn_large_chunks/trn_df_chunk97.parquet', '../../trn_large_chunks/trn_df_chunk77.parquet', '../../trn_large_chunks/trn_df_chunk87.parquet', '../../trn_large_chunks/trn_df_chunk58.parquet', '../../trn_large_chunks/trn_df_chunk30.parquet', '../../trn_large_chunks/trn_df_chunk75.parquet', '../../trn_large_chunks/trn_df_chunk78.parquet', '../../trn_large_chunks/trn_df_chunk64.parquet', '../../trn_large_chunks/trn_df_chunk80.parquet', '../../trn_large_chunks/trn_df_chunk52.parquet', '../../trn_large_chunks/trn_df_chunk34.parquet', '../../trn_large_chunks/trn_df_chunk40.parquet', '../../trn_large_chunks/trn_df_chunk95.parquet', '../../trn_large_chunks/trn_df_chunk70.parquet', '../../trn_large_chunks/trn_df_chunk25.parquet', '../../trn_large_chunks/trn_df_chunk3.parquet', '../../trn_large_chunks/trn_df_chunk56.parquet', '../../trn_large_chunks/trn_df_chunk66.parquet', '../../trn_large_chunks/trn_df_chunk22.parquet', '../../trn_large_chunks/trn_df_chunk60.parquet', '../../trn_large_chunks/trn_df_chunk89.parquet', '../../trn_large_chunks/trn_df_chunk42.parquet', '../../trn_large_chunks/trn_df_chunk68.parquet', '../../trn_large_chunks/trn_df_chunk79.parquet', '../../trn_large_chunks/trn_df_chunk50.parquet', '../../trn_large_chunks/trn_df_chunk6.parquet', '../../trn_large_chunks/trn_df_chunk28.parquet', '../../trn_large_chunks/trn_df_chunk31.parquet', '../../trn_large_chunks/trn_df_chunk65.parquet', '../../trn_large_chunks/trn_df_chunk98.parquet']\n"
     ]
    },
    {
     "name": "stderr",
     "output_type": "stream",
     "text": [
      "100%|████████████████████████████████████████████████████████████████████| 100/100 [03:16<00:00,  1.96s/it]\n"
     ]
    },
    {
     "data": {
      "text/plain": [
       "0"
      ]
     },
     "execution_count": 3,
     "metadata": {},
     "output_type": "execute_result"
    }
   ],
   "source": [
    "chunks_to_train_on = 100\n",
    "\n",
    "\n",
    "chunk_files = [os.path.join(\"../../trn_large_chunks/\", path) for path in os.listdir(\"../../trn_large_chunks/\")]\n",
    "\n",
    "random.seed(749812)\n",
    "random_files = random.sample(chunk_files, chunks_to_train_on)\n",
    "print(random_files)\n",
    "\n",
    "trn_dfs = []\n",
    "for file in tqdm(random_files):\n",
    "    trn_dfs.append(pl.read_parquet(file))\n",
    "\n",
    "trn_df = pl.concat(trn_dfs)\n",
    "\n",
    "del trn_dfs\n",
    "import gc; gc.collect()"
   ]
  },
  {
   "cell_type": "markdown",
   "metadata": {},
   "source": [
    "# Train"
   ]
  },
  {
   "cell_type": "code",
   "execution_count": 4,
   "metadata": {},
   "outputs": [],
   "source": [
    "target_col = 'is_clicked'\n",
    "drop_cols = [\n",
    "    'impression_id', 'impression_time','user_id','session_id','article_id',\n",
    "]"
   ]
  },
  {
   "cell_type": "code",
   "execution_count": 5,
   "metadata": {},
   "outputs": [
    {
     "name": "stderr",
     "output_type": "stream",
     "text": [
      "[2024-07-08 11:31:45,339][INFO] X_train shape: (133810641, 436), y_train shape: (133810641,)\n"
     ]
    }
   ],
   "source": [
    "X_train = trn_df.drop(drop_cols + [target_col]).to_pandas()\n",
    "y_train = trn_df[target_col].to_pandas()\n",
    "\n",
    "imp_train = trn_df['impression_id'].to_pandas()\n",
    "\n",
    "logger.info(f'X_train shape: {X_train.shape}, y_train shape: {y_train.shape}')\n",
    "\n",
    "X_train[\"category\"] = X_train[\"category\"].astype(\"category\")"
   ]
  },
  {
   "cell_type": "code",
   "execution_count": 6,
   "metadata": {},
   "outputs": [
    {
     "name": "stderr",
     "output_type": "stream",
     "text": [
      "[2024-07-08 11:31:54,647][INFO] X_valid shape: (2928942, 436), y_valid shape: (2928942,)\n"
     ]
    }
   ],
   "source": [
    "X_valid = val_df.drop(drop_cols + [target_col]).to_pandas()\n",
    "y_valid = val_df[target_col].to_pandas()\n",
    "\n",
    "imp_valid = val_df['impression_id'].to_pandas()\n",
    "\n",
    "logger.info(f'X_valid shape: {X_valid.shape}, y_valid shape: {y_valid.shape}')\n",
    "\n",
    "X_valid[\"category\"] = X_valid[\"category\"].astype(\"category\")"
   ]
  },
  {
   "cell_type": "code",
   "execution_count": 7,
   "metadata": {},
   "outputs": [],
   "source": [
    "from sklearn.metrics import roc_auc_score\n",
    "def get_mean_auc(y_pred,y_true,impression):\n",
    "    pred_df = pd.DataFrame({\n",
    "        'impression_id': impression,\n",
    "        'y_true': y_true,\n",
    "        'y_pred': y_pred\n",
    "    })\n",
    "\n",
    "    #save as valid_pred.parquet\n",
    "    pred_df.to_parquet('valid_pred.parquet')\n",
    "\n",
    "    group_auc = pred_df.groupby('impression_id').apply(lambda x: roc_auc_score(x['y_true'],x['y_pred'])).mean()\n",
    "\n",
    "    return group_auc"
   ]
  },
  {
   "cell_type": "code",
   "execution_count": 8,
   "metadata": {},
   "outputs": [
    {
     "data": {
      "text/plain": [
       "63"
      ]
     },
     "execution_count": 8,
     "metadata": {},
     "output_type": "execute_result"
    }
   ],
   "source": [
    "del trn_df, val_df\n",
    "import gc; gc.collect()"
   ]
  },
  {
   "cell_type": "markdown",
   "metadata": {},
   "source": [
    "## LightGBM"
   ]
  },
  {
   "cell_type": "code",
   "execution_count": 9,
   "metadata": {},
   "outputs": [],
   "source": [
    "lgb_params ={\n",
    "    'boosting_type': 'gbdt',\n",
    "    'objective': 'lambdarank',\n",
    "    'metric': 'ndcg',\n",
    "    'ndcg_eval_at':5,\n",
    "    'learning_rate': 0.01,\n",
    "    'feature_fraction': 0.9,\n",
    "    'bagging_fraction': 0.8,\n",
    "    'bagging_freq': 5,\n",
    "    'random_state': 758392,\n",
    "    'n_jobs': 80,\n",
    "}"
   ]
  },
  {
   "cell_type": "code",
   "execution_count": 10,
   "metadata": {
    "scrolled": true
   },
   "outputs": [
    {
     "name": "stdout",
     "output_type": "stream",
     "text": [
      "[LightGBM] [Warning] Auto-choosing row-wise multi-threading, the overhead of testing was 18.711694 seconds.\n",
      "You can set `force_row_wise=true` to remove the overhead.\n",
      "And if memory is not enough, you can set `force_col_wise=true`.\n",
      "[LightGBM] [Info] Total Bins 102429\n",
      "[LightGBM] [Info] Number of data points in the train set: 133810641, number of used features: 436\n",
      "Training until validation scores don't improve for 1000 rounds\n",
      "[100]\tvalid_0's ndcg@5: 0.79638\n",
      "[200]\tvalid_0's ndcg@5: 0.804157\n",
      "[300]\tvalid_0's ndcg@5: 0.809004\n",
      "[400]\tvalid_0's ndcg@5: 0.813475\n",
      "[500]\tvalid_0's ndcg@5: 0.816591\n",
      "[600]\tvalid_0's ndcg@5: 0.819142\n",
      "[700]\tvalid_0's ndcg@5: 0.821237\n",
      "[800]\tvalid_0's ndcg@5: 0.822851\n",
      "[900]\tvalid_0's ndcg@5: 0.824292\n",
      "[1000]\tvalid_0's ndcg@5: 0.825506\n",
      "[1100]\tvalid_0's ndcg@5: 0.826524\n",
      "[1200]\tvalid_0's ndcg@5: 0.827427\n",
      "[1300]\tvalid_0's ndcg@5: 0.828367\n",
      "[1400]\tvalid_0's ndcg@5: 0.829074\n",
      "[1500]\tvalid_0's ndcg@5: 0.829665\n",
      "[1600]\tvalid_0's ndcg@5: 0.830263\n",
      "[1700]\tvalid_0's ndcg@5: 0.830747\n",
      "[1800]\tvalid_0's ndcg@5: 0.831218\n",
      "[1900]\tvalid_0's ndcg@5: 0.831725\n",
      "[2000]\tvalid_0's ndcg@5: 0.832086\n",
      "[2100]\tvalid_0's ndcg@5: 0.83255\n",
      "[2200]\tvalid_0's ndcg@5: 0.832936\n",
      "[2300]\tvalid_0's ndcg@5: 0.833272\n",
      "[2400]\tvalid_0's ndcg@5: 0.833534\n",
      "[2500]\tvalid_0's ndcg@5: 0.83385\n",
      "[2600]\tvalid_0's ndcg@5: 0.834102\n",
      "[2700]\tvalid_0's ndcg@5: 0.834379\n",
      "[2800]\tvalid_0's ndcg@5: 0.834636\n",
      "[2900]\tvalid_0's ndcg@5: 0.83485\n",
      "[3000]\tvalid_0's ndcg@5: 0.835149\n",
      "[3100]\tvalid_0's ndcg@5: 0.835341\n",
      "[3200]\tvalid_0's ndcg@5: 0.835454\n",
      "[3300]\tvalid_0's ndcg@5: 0.835563\n",
      "[3400]\tvalid_0's ndcg@5: 0.835755\n",
      "[3500]\tvalid_0's ndcg@5: 0.835847\n",
      "[3600]\tvalid_0's ndcg@5: 0.836057\n",
      "[3700]\tvalid_0's ndcg@5: 0.836154\n",
      "[3800]\tvalid_0's ndcg@5: 0.836288\n",
      "[3900]\tvalid_0's ndcg@5: 0.836421\n",
      "[4000]\tvalid_0's ndcg@5: 0.836571\n",
      "[4100]\tvalid_0's ndcg@5: 0.836686\n",
      "[4200]\tvalid_0's ndcg@5: 0.836801\n",
      "[4300]\tvalid_0's ndcg@5: 0.836848\n",
      "[4400]\tvalid_0's ndcg@5: 0.837011\n",
      "[4500]\tvalid_0's ndcg@5: 0.837055\n",
      "[4600]\tvalid_0's ndcg@5: 0.837174\n",
      "[4700]\tvalid_0's ndcg@5: 0.837243\n",
      "[4800]\tvalid_0's ndcg@5: 0.837356\n",
      "[4900]\tvalid_0's ndcg@5: 0.837518\n",
      "[5000]\tvalid_0's ndcg@5: 0.837581\n",
      "[5100]\tvalid_0's ndcg@5: 0.837676\n",
      "[5200]\tvalid_0's ndcg@5: 0.837783\n",
      "[5300]\tvalid_0's ndcg@5: 0.837856\n",
      "[5400]\tvalid_0's ndcg@5: 0.837951\n",
      "[5500]\tvalid_0's ndcg@5: 0.837985\n",
      "[5600]\tvalid_0's ndcg@5: 0.83806\n",
      "[5700]\tvalid_0's ndcg@5: 0.838164\n",
      "[5800]\tvalid_0's ndcg@5: 0.838193\n",
      "[5900]\tvalid_0's ndcg@5: 0.838271\n",
      "[6000]\tvalid_0's ndcg@5: 0.838383\n",
      "[6100]\tvalid_0's ndcg@5: 0.838401\n",
      "[6200]\tvalid_0's ndcg@5: 0.838499\n",
      "[6300]\tvalid_0's ndcg@5: 0.838599\n",
      "[6400]\tvalid_0's ndcg@5: 0.838644\n",
      "[6500]\tvalid_0's ndcg@5: 0.838713\n",
      "[6600]\tvalid_0's ndcg@5: 0.83876\n",
      "[6700]\tvalid_0's ndcg@5: 0.838783\n",
      "[6800]\tvalid_0's ndcg@5: 0.838892\n",
      "[6900]\tvalid_0's ndcg@5: 0.838886\n",
      "[7000]\tvalid_0's ndcg@5: 0.838968\n",
      "[7100]\tvalid_0's ndcg@5: 0.839022\n",
      "[7200]\tvalid_0's ndcg@5: 0.839105\n",
      "[7300]\tvalid_0's ndcg@5: 0.839118\n",
      "[7400]\tvalid_0's ndcg@5: 0.839151\n",
      "[7500]\tvalid_0's ndcg@5: 0.839175\n",
      "[7600]\tvalid_0's ndcg@5: 0.839248\n",
      "[7700]\tvalid_0's ndcg@5: 0.839321\n",
      "[7800]\tvalid_0's ndcg@5: 0.839381\n",
      "[7900]\tvalid_0's ndcg@5: 0.839407\n",
      "[8000]\tvalid_0's ndcg@5: 0.83944\n",
      "[8100]\tvalid_0's ndcg@5: 0.83952\n",
      "[8200]\tvalid_0's ndcg@5: 0.839533\n",
      "[8300]\tvalid_0's ndcg@5: 0.83958\n",
      "[8400]\tvalid_0's ndcg@5: 0.839672\n",
      "[8500]\tvalid_0's ndcg@5: 0.839713\n",
      "[8600]\tvalid_0's ndcg@5: 0.839719\n",
      "[8700]\tvalid_0's ndcg@5: 0.839736\n",
      "[8800]\tvalid_0's ndcg@5: 0.83984\n",
      "[8900]\tvalid_0's ndcg@5: 0.839866\n",
      "[9000]\tvalid_0's ndcg@5: 0.839898\n",
      "[9100]\tvalid_0's ndcg@5: 0.83996\n",
      "[9200]\tvalid_0's ndcg@5: 0.839998\n",
      "[9300]\tvalid_0's ndcg@5: 0.840089\n",
      "[9400]\tvalid_0's ndcg@5: 0.840127\n",
      "[9500]\tvalid_0's ndcg@5: 0.840164\n",
      "[9600]\tvalid_0's ndcg@5: 0.84017\n",
      "[9700]\tvalid_0's ndcg@5: 0.840173\n",
      "[9800]\tvalid_0's ndcg@5: 0.840216\n",
      "[9900]\tvalid_0's ndcg@5: 0.840251\n",
      "[10000]\tvalid_0's ndcg@5: 0.840289\n",
      "[10100]\tvalid_0's ndcg@5: 0.840306\n",
      "[10200]\tvalid_0's ndcg@5: 0.840373\n",
      "[10300]\tvalid_0's ndcg@5: 0.840388\n",
      "[10400]\tvalid_0's ndcg@5: 0.840427\n",
      "[10500]\tvalid_0's ndcg@5: 0.84046\n",
      "[10600]\tvalid_0's ndcg@5: 0.84049\n",
      "[10700]\tvalid_0's ndcg@5: 0.840539\n",
      "[10800]\tvalid_0's ndcg@5: 0.840573\n",
      "[10900]\tvalid_0's ndcg@5: 0.840613\n",
      "[11000]\tvalid_0's ndcg@5: 0.840683\n",
      "[11100]\tvalid_0's ndcg@5: 0.840696\n",
      "[11200]\tvalid_0's ndcg@5: 0.840752\n",
      "[11300]\tvalid_0's ndcg@5: 0.840782\n",
      "[11400]\tvalid_0's ndcg@5: 0.840812\n",
      "[11500]\tvalid_0's ndcg@5: 0.840859\n",
      "[11600]\tvalid_0's ndcg@5: 0.840834\n",
      "[11700]\tvalid_0's ndcg@5: 0.840847\n",
      "[11800]\tvalid_0's ndcg@5: 0.840888\n",
      "[11900]\tvalid_0's ndcg@5: 0.840949\n",
      "[12000]\tvalid_0's ndcg@5: 0.840972\n",
      "[12100]\tvalid_0's ndcg@5: 0.841029\n",
      "[12200]\tvalid_0's ndcg@5: 0.841065\n",
      "[12300]\tvalid_0's ndcg@5: 0.841032\n",
      "[12400]\tvalid_0's ndcg@5: 0.84107\n",
      "[12500]\tvalid_0's ndcg@5: 0.841075\n",
      "[12600]\tvalid_0's ndcg@5: 0.841146\n",
      "[12700]\tvalid_0's ndcg@5: 0.841152\n",
      "[12800]\tvalid_0's ndcg@5: 0.841195\n",
      "[12900]\tvalid_0's ndcg@5: 0.841186\n",
      "[13000]\tvalid_0's ndcg@5: 0.841229\n",
      "[13100]\tvalid_0's ndcg@5: 0.8413\n",
      "[13200]\tvalid_0's ndcg@5: 0.841352\n",
      "[13300]\tvalid_0's ndcg@5: 0.841352\n",
      "[13400]\tvalid_0's ndcg@5: 0.84138\n",
      "[13500]\tvalid_0's ndcg@5: 0.841405\n",
      "[13600]\tvalid_0's ndcg@5: 0.841395\n",
      "[13700]\tvalid_0's ndcg@5: 0.841399\n",
      "[13800]\tvalid_0's ndcg@5: 0.841409\n",
      "[13900]\tvalid_0's ndcg@5: 0.841466\n",
      "[14000]\tvalid_0's ndcg@5: 0.841507\n",
      "[14100]\tvalid_0's ndcg@5: 0.841551\n",
      "[14200]\tvalid_0's ndcg@5: 0.841562\n",
      "[14300]\tvalid_0's ndcg@5: 0.841561\n",
      "[14400]\tvalid_0's ndcg@5: 0.841541\n",
      "[14500]\tvalid_0's ndcg@5: 0.841612\n",
      "[14600]\tvalid_0's ndcg@5: 0.841634\n",
      "[14700]\tvalid_0's ndcg@5: 0.841627\n",
      "[14800]\tvalid_0's ndcg@5: 0.841638\n",
      "[14900]\tvalid_0's ndcg@5: 0.84168\n",
      "[15000]\tvalid_0's ndcg@5: 0.841697\n",
      "[15100]\tvalid_0's ndcg@5: 0.841711\n",
      "[15200]\tvalid_0's ndcg@5: 0.841707\n",
      "[15300]\tvalid_0's ndcg@5: 0.841734\n",
      "[15400]\tvalid_0's ndcg@5: 0.841743\n",
      "[15500]\tvalid_0's ndcg@5: 0.841757\n",
      "[15600]\tvalid_0's ndcg@5: 0.841805\n",
      "[15700]\tvalid_0's ndcg@5: 0.841859\n",
      "[15800]\tvalid_0's ndcg@5: 0.841836\n",
      "[15900]\tvalid_0's ndcg@5: 0.841832\n",
      "[16000]\tvalid_0's ndcg@5: 0.841849\n",
      "[16100]\tvalid_0's ndcg@5: 0.84189\n",
      "[16200]\tvalid_0's ndcg@5: 0.841936\n",
      "[16300]\tvalid_0's ndcg@5: 0.841949\n",
      "[16400]\tvalid_0's ndcg@5: 0.841936\n",
      "[16500]\tvalid_0's ndcg@5: 0.841961\n",
      "[16600]\tvalid_0's ndcg@5: 0.842007\n",
      "[16700]\tvalid_0's ndcg@5: 0.842093\n",
      "[16800]\tvalid_0's ndcg@5: 0.842075\n",
      "[16900]\tvalid_0's ndcg@5: 0.842074\n",
      "[17000]\tvalid_0's ndcg@5: 0.842133\n",
      "[17100]\tvalid_0's ndcg@5: 0.842147\n",
      "[17200]\tvalid_0's ndcg@5: 0.842151\n",
      "[17300]\tvalid_0's ndcg@5: 0.842205\n",
      "[17400]\tvalid_0's ndcg@5: 0.842219\n",
      "[17500]\tvalid_0's ndcg@5: 0.842225\n",
      "[17600]\tvalid_0's ndcg@5: 0.842249\n",
      "[17700]\tvalid_0's ndcg@5: 0.842274\n",
      "[17800]\tvalid_0's ndcg@5: 0.842224\n",
      "[17900]\tvalid_0's ndcg@5: 0.842253\n",
      "[18000]\tvalid_0's ndcg@5: 0.842257\n",
      "[18100]\tvalid_0's ndcg@5: 0.842281\n",
      "[18200]\tvalid_0's ndcg@5: 0.84228\n",
      "[18300]\tvalid_0's ndcg@5: 0.842274\n",
      "[18400]\tvalid_0's ndcg@5: 0.842297\n",
      "[18500]\tvalid_0's ndcg@5: 0.842328\n",
      "[18600]\tvalid_0's ndcg@5: 0.842338\n",
      "[18700]\tvalid_0's ndcg@5: 0.842359\n",
      "[18800]\tvalid_0's ndcg@5: 0.842413\n",
      "[18900]\tvalid_0's ndcg@5: 0.842418\n",
      "[19000]\tvalid_0's ndcg@5: 0.84244\n",
      "[19100]\tvalid_0's ndcg@5: 0.842465\n",
      "[19200]\tvalid_0's ndcg@5: 0.842487\n",
      "[19300]\tvalid_0's ndcg@5: 0.842522\n",
      "[19400]\tvalid_0's ndcg@5: 0.842553\n",
      "[19500]\tvalid_0's ndcg@5: 0.842555\n",
      "[19600]\tvalid_0's ndcg@5: 0.842576\n",
      "[19700]\tvalid_0's ndcg@5: 0.842593\n",
      "[19800]\tvalid_0's ndcg@5: 0.842615\n",
      "[19900]\tvalid_0's ndcg@5: 0.842616\n",
      "[20000]\tvalid_0's ndcg@5: 0.842648\n",
      "[20100]\tvalid_0's ndcg@5: 0.842661\n",
      "[20200]\tvalid_0's ndcg@5: 0.842686\n",
      "[20300]\tvalid_0's ndcg@5: 0.842703\n",
      "[20400]\tvalid_0's ndcg@5: 0.842716\n",
      "[20500]\tvalid_0's ndcg@5: 0.84275\n",
      "[20600]\tvalid_0's ndcg@5: 0.842765\n",
      "[20700]\tvalid_0's ndcg@5: 0.842791\n",
      "[20800]\tvalid_0's ndcg@5: 0.842784\n",
      "[20900]\tvalid_0's ndcg@5: 0.842797\n",
      "[21000]\tvalid_0's ndcg@5: 0.842794\n",
      "[21100]\tvalid_0's ndcg@5: 0.842786\n",
      "[21200]\tvalid_0's ndcg@5: 0.842776\n",
      "[21300]\tvalid_0's ndcg@5: 0.842823\n",
      "[21400]\tvalid_0's ndcg@5: 0.842808\n",
      "[21500]\tvalid_0's ndcg@5: 0.842817\n",
      "[21600]\tvalid_0's ndcg@5: 0.842836\n",
      "[21700]\tvalid_0's ndcg@5: 0.842834\n",
      "[21800]\tvalid_0's ndcg@5: 0.842813\n",
      "[21900]\tvalid_0's ndcg@5: 0.842832\n",
      "[22000]\tvalid_0's ndcg@5: 0.842843\n",
      "[22100]\tvalid_0's ndcg@5: 0.842878\n",
      "[22200]\tvalid_0's ndcg@5: 0.842875\n",
      "[22300]\tvalid_0's ndcg@5: 0.84287\n",
      "[22400]\tvalid_0's ndcg@5: 0.842861\n",
      "[22500]\tvalid_0's ndcg@5: 0.84288\n",
      "[22600]\tvalid_0's ndcg@5: 0.842872\n"
     ]
    },
    {
     "name": "stdout",
     "output_type": "stream",
     "text": [
      "[22700]\tvalid_0's ndcg@5: 0.842879\n",
      "[22800]\tvalid_0's ndcg@5: 0.842875\n",
      "[22900]\tvalid_0's ndcg@5: 0.842886\n",
      "[23000]\tvalid_0's ndcg@5: 0.842892\n",
      "[23100]\tvalid_0's ndcg@5: 0.842906\n",
      "[23200]\tvalid_0's ndcg@5: 0.842924\n",
      "[23300]\tvalid_0's ndcg@5: 0.842975\n",
      "[23400]\tvalid_0's ndcg@5: 0.842957\n",
      "[23500]\tvalid_0's ndcg@5: 0.842966\n",
      "[23600]\tvalid_0's ndcg@5: 0.842992\n",
      "[23700]\tvalid_0's ndcg@5: 0.84298\n",
      "[23800]\tvalid_0's ndcg@5: 0.842993\n",
      "[23900]\tvalid_0's ndcg@5: 0.842984\n",
      "[24000]\tvalid_0's ndcg@5: 0.843008\n",
      "[24100]\tvalid_0's ndcg@5: 0.842991\n",
      "[24200]\tvalid_0's ndcg@5: 0.843024\n",
      "[24300]\tvalid_0's ndcg@5: 0.843001\n",
      "[24400]\tvalid_0's ndcg@5: 0.843007\n",
      "[24500]\tvalid_0's ndcg@5: 0.843\n",
      "[24600]\tvalid_0's ndcg@5: 0.843021\n",
      "[24700]\tvalid_0's ndcg@5: 0.843041\n",
      "[24800]\tvalid_0's ndcg@5: 0.843032\n",
      "[24900]\tvalid_0's ndcg@5: 0.843045\n",
      "[25000]\tvalid_0's ndcg@5: 0.843054\n",
      "[25100]\tvalid_0's ndcg@5: 0.843069\n",
      "[25200]\tvalid_0's ndcg@5: 0.84308\n",
      "[25300]\tvalid_0's ndcg@5: 0.843085\n",
      "[25400]\tvalid_0's ndcg@5: 0.843101\n",
      "[25500]\tvalid_0's ndcg@5: 0.843094\n",
      "[25600]\tvalid_0's ndcg@5: 0.843107\n",
      "[25700]\tvalid_0's ndcg@5: 0.843113\n",
      "[25800]\tvalid_0's ndcg@5: 0.843099\n",
      "[25900]\tvalid_0's ndcg@5: 0.843074\n",
      "[26000]\tvalid_0's ndcg@5: 0.843111\n",
      "[26100]\tvalid_0's ndcg@5: 0.843136\n",
      "[26200]\tvalid_0's ndcg@5: 0.843146\n",
      "[26300]\tvalid_0's ndcg@5: 0.843143\n",
      "[26400]\tvalid_0's ndcg@5: 0.843132\n",
      "[26500]\tvalid_0's ndcg@5: 0.843158\n",
      "[26600]\tvalid_0's ndcg@5: 0.843164\n",
      "[26700]\tvalid_0's ndcg@5: 0.843177\n",
      "[26800]\tvalid_0's ndcg@5: 0.843184\n",
      "[26900]\tvalid_0's ndcg@5: 0.843156\n",
      "[27000]\tvalid_0's ndcg@5: 0.843192\n",
      "[27100]\tvalid_0's ndcg@5: 0.843185\n",
      "[27200]\tvalid_0's ndcg@5: 0.84315\n",
      "[27300]\tvalid_0's ndcg@5: 0.843195\n",
      "[27400]\tvalid_0's ndcg@5: 0.843192\n",
      "[27500]\tvalid_0's ndcg@5: 0.843197\n",
      "[27600]\tvalid_0's ndcg@5: 0.843234\n",
      "[27700]\tvalid_0's ndcg@5: 0.843241\n",
      "[27800]\tvalid_0's ndcg@5: 0.843248\n",
      "[27900]\tvalid_0's ndcg@5: 0.843251\n",
      "[28000]\tvalid_0's ndcg@5: 0.843252\n",
      "[28100]\tvalid_0's ndcg@5: 0.843237\n",
      "[28200]\tvalid_0's ndcg@5: 0.84322\n",
      "[28300]\tvalid_0's ndcg@5: 0.843217\n",
      "[28400]\tvalid_0's ndcg@5: 0.843248\n",
      "[28500]\tvalid_0's ndcg@5: 0.843272\n",
      "[28600]\tvalid_0's ndcg@5: 0.843289\n",
      "[28700]\tvalid_0's ndcg@5: 0.843302\n",
      "[28800]\tvalid_0's ndcg@5: 0.843312\n",
      "[28900]\tvalid_0's ndcg@5: 0.843302\n",
      "[29000]\tvalid_0's ndcg@5: 0.843308\n",
      "[29100]\tvalid_0's ndcg@5: 0.843321\n",
      "[29200]\tvalid_0's ndcg@5: 0.843329\n",
      "[29300]\tvalid_0's ndcg@5: 0.843341\n",
      "[29400]\tvalid_0's ndcg@5: 0.843343\n",
      "[29500]\tvalid_0's ndcg@5: 0.843355\n",
      "[29600]\tvalid_0's ndcg@5: 0.84335\n",
      "[29700]\tvalid_0's ndcg@5: 0.843358\n",
      "[29800]\tvalid_0's ndcg@5: 0.843403\n",
      "[29900]\tvalid_0's ndcg@5: 0.8434\n",
      "[30000]\tvalid_0's ndcg@5: 0.843411\n",
      "[30100]\tvalid_0's ndcg@5: 0.843408\n",
      "[30200]\tvalid_0's ndcg@5: 0.843426\n",
      "[30300]\tvalid_0's ndcg@5: 0.843395\n",
      "[30400]\tvalid_0's ndcg@5: 0.843409\n",
      "[30500]\tvalid_0's ndcg@5: 0.843431\n",
      "[30600]\tvalid_0's ndcg@5: 0.84343\n",
      "[30700]\tvalid_0's ndcg@5: 0.84343\n",
      "[30800]\tvalid_0's ndcg@5: 0.843463\n",
      "[30900]\tvalid_0's ndcg@5: 0.843477\n",
      "[31000]\tvalid_0's ndcg@5: 0.843476\n",
      "[31100]\tvalid_0's ndcg@5: 0.843469\n",
      "[31200]\tvalid_0's ndcg@5: 0.84348\n",
      "[31300]\tvalid_0's ndcg@5: 0.843493\n",
      "[31400]\tvalid_0's ndcg@5: 0.843487\n",
      "[31500]\tvalid_0's ndcg@5: 0.843526\n",
      "[31600]\tvalid_0's ndcg@5: 0.843518\n",
      "[31700]\tvalid_0's ndcg@5: 0.84352\n",
      "[31800]\tvalid_0's ndcg@5: 0.843514\n",
      "[31900]\tvalid_0's ndcg@5: 0.843514\n",
      "[32000]\tvalid_0's ndcg@5: 0.843524\n",
      "[32100]\tvalid_0's ndcg@5: 0.8435\n",
      "[32200]\tvalid_0's ndcg@5: 0.84348\n",
      "[32300]\tvalid_0's ndcg@5: 0.843484\n",
      "[32400]\tvalid_0's ndcg@5: 0.843497\n",
      "[32500]\tvalid_0's ndcg@5: 0.843502\n",
      "[32600]\tvalid_0's ndcg@5: 0.843487\n",
      "[32700]\tvalid_0's ndcg@5: 0.84348\n",
      "Early stopping, best iteration is:\n",
      "[31778]\tvalid_0's ndcg@5: 0.843547\n"
     ]
    },
    {
     "name": "stderr",
     "output_type": "stream",
     "text": [
      "[2024-07-12 03:06:01,862][INFO] best_iter: 31778, best_score: 0.84354662711833\n"
     ]
    },
    {
     "data": {
      "image/png": "[encoded data removed]",
      "text/plain": [
       "<Figure size 1152x1152 with 1 Axes>"
      ]
     },
     "metadata": {
      "needs_background": "light"
     },
     "output_type": "display_data"
    },
    {
     "name": "stdout",
     "output_type": "stream",
     "text": [
      "CPU times: user 221d 9h 26min 6s, sys: 23h 56min 9s, total: 222d 9h 22min 16s\n",
      "Wall time: 3d 15h 33min 49s\n"
     ]
    }
   ],
   "source": [
    "%%time\n",
    "#train\n",
    "callbacks = [\n",
    "    lgb.early_stopping(stopping_rounds=1000, verbose=True),\n",
    "    lgb.log_evaluation(period=100)\n",
    "]\n",
    "\n",
    "group_train = imp_train.groupby(imp_train).count().to_numpy()\n",
    "group_valid = imp_valid.groupby(imp_valid).count().to_numpy()\n",
    "\n",
    "lgb_train = lgb.Dataset(X_train, label=y_train,group=group_train)\n",
    "lgb_valid = lgb.Dataset(X_valid, label=y_valid,group=group_valid, reference=lgb_train)\n",
    "\n",
    "lgb_model = lgb.train(\n",
    "    lgb_params,\n",
    "    lgb_train,\n",
    "    valid_sets=[lgb_valid],\n",
    "    num_boost_round=300000,\n",
    "    callbacks=callbacks\n",
    ")\n",
    "\n",
    "#best_iter, best_score\n",
    "best_iter = lgb_model.best_iteration\n",
    "best_score = lgb_model.best_score['valid_0']['ndcg@5']\n",
    "\n",
    "logger.info(f'best_iter: {best_iter}, best_score: {best_score}')\n",
    "\n",
    "#feature importance\n",
    "feature_importance = lgb_model.feature_importance(importance_type='gain')\n",
    "feature_name = lgb_model.feature_name()\n",
    "\n",
    "feature_importance_df = pd.DataFrame({\n",
    "    'feature_name': feature_name,\n",
    "    'importance': feature_importance\n",
    "})\n",
    "\n",
    "feature_importance_df = feature_importance_df.sort_values('importance', ascending=False)\n",
    "\n",
    "#plot\n",
    "plt.figure(figsize=(16, 16))\n",
    "sns.barplot(data=feature_importance_df.head(50), x='importance', y='feature_name')\n",
    "plt.show()"
   ]
  },
  {
   "cell_type": "code",
   "execution_count": 11,
   "metadata": {},
   "outputs": [
    {
     "name": "stderr",
     "output_type": "stream",
     "text": [
      "[2024-07-12 03:16:52,616][INFO] group_auc: 0.8579553506631862\n"
     ]
    }
   ],
   "source": [
    "group_auc = get_mean_auc(lgb_model.predict(X_valid),y_valid,imp_valid)\n",
    "logger.info(f'group_auc: {group_auc}')"
   ]
  },
  {
   "cell_type": "code",
   "execution_count": 13,
   "metadata": {},
   "outputs": [
    {
     "data": {
      "text/plain": [
       "<lightgbm.basic.Booster at 0x7f1b6b364610>"
      ]
     },
     "execution_count": 13,
     "metadata": {},
     "output_type": "execute_result"
    }
   ],
   "source": [
    "# lgb_model.save_model(\"./lgb_model_100p.txt\")"
   ]
  },
  {
   "cell_type": "code",
   "execution_count": null,
   "metadata": {},
   "outputs": [],
   "source": []
  }
 ],
 "metadata": {
  "kernelspec": {
   "display_name": "Python 3 (ipykernel)",
   "language": "python",
   "name": "python3"
  },
  "language_info": {
   "codemirror_mode": {
    "name": "ipython",
    "version": 3
   },
   "file_extension": ".py",
   "mimetype": "text/x-python",
   "name": "python",
   "nbconvert_exporter": "python",
   "pygments_lexer": "ipython3",
   "version": "3.7.12"
  }
 },
 "nbformat": 4,
 "nbformat_minor": 4
}
