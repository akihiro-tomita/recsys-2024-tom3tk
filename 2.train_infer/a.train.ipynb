{
 "cells": [
  {
   "cell_type": "code",
   "execution_count": 1,
   "metadata": {},
   "outputs": [
    {
     "data": {
      "text/html": [
       "<style type='text/css'>\n",
       ".datatable table.frame { margin-bottom: 0; }\n",
       ".datatable table.frame thead { border-bottom: none; }\n",
       ".datatable table.frame tr.coltypes td {  color: #FFFFFF;  line-height: 6px;  padding: 0 0.5em;}\n",
       ".datatable .bool    { background: #DDDD99; }\n",
       ".datatable .object  { background: #565656; }\n",
       ".datatable .int     { background: #5D9E5D; }\n",
       ".datatable .float   { background: #4040CC; }\n",
       ".datatable .str     { background: #CC4040; }\n",
       ".datatable .time    { background: #40CC40; }\n",
       ".datatable .row_index {  background: var(--jp-border-color3);  border-right: 1px solid var(--jp-border-color0);  color: var(--jp-ui-font-color3);  font-size: 9px;}\n",
       ".datatable .frame tbody td { text-align: left; }\n",
       ".datatable .frame tr.coltypes .row_index {  background: var(--jp-border-color0);}\n",
       ".datatable th:nth-child(2) { padding-left: 12px; }\n",
       ".datatable .hellipsis {  color: var(--jp-cell-editor-border-color);}\n",
       ".datatable .vellipsis {  background: var(--jp-layout-color0);  color: var(--jp-cell-editor-border-color);}\n",
       ".datatable .na {  color: var(--jp-cell-editor-border-color);  font-size: 80%;}\n",
       ".datatable .sp {  opacity: 0.25;}\n",
       ".datatable .footer { font-size: 9px; }\n",
       ".datatable .frame_dimensions {  background: var(--jp-border-color3);  border-top: 1px solid var(--jp-border-color0);  color: var(--jp-ui-font-color3);  display: inline-block;  opacity: 0.6;  padding: 1px 10px 1px 5px;}\n",
       "</style>\n"
      ],
      "text/plain": [
       "<IPython.core.display.HTML object>"
      ]
     },
     "metadata": {},
     "output_type": "display_data"
    }
   ],
   "source": [
    "import os\n",
    "\n",
    "import pandas as pd\n",
    "import polars as pl\n",
    "\n",
    "\n",
    "import lightgbm as lgb\n",
    "import matplotlib.pyplot as plt\n",
    "import random\n",
    "import seaborn as sns\n",
    "\n",
    "from tqdm import tqdm\n",
    "\n",
    "import warnings\n",
    "\n",
    "warnings.filterwarnings('ignore')\n",
    "\n",
    "#Logging\n",
    "import logging\n",
    "\n",
    "# ロガーの取得\n",
    "logger = logging.getLogger(__name__)\n",
    "logger.setLevel(logging.DEBUG)\n",
    "file_handler = logging.FileHandler('logs.log')\n",
    "\n",
    "# # ログのフォーマットを設定\n",
    "formatter = logging.Formatter('[%(asctime)s][%(levelname)s] %(message)s')\n",
    "file_handler.setFormatter(formatter)\n",
    "logger.addHandler(file_handler)\n",
    "\n",
    "# Notebook上にもログを表示するためのハンドラ\n",
    "stream_handler = logging.StreamHandler()\n",
    "stream_handler.setFormatter(formatter)\n",
    "logger.addHandler(stream_handler)\n",
    "\n",
    "pd.set_option('display.max_columns', 1000)"
   ]
  },
  {
   "cell_type": "markdown",
   "metadata": {},
   "source": [
    "# Data Load"
   ]
  },
  {
   "cell_type": "code",
   "execution_count": null,
   "metadata": {},
   "outputs": [],
   "source": [
    "chunks_to_train_on = 20\n",
    "\n",
    "\n",
    "chunk_files = [os.path.join(\"./trn_large_chunks/\", path) for path in os.listdir(\"./trn_large_chunks/\")] + \\\n",
    "                            [os.path.join(\"./val_large_chunks/\", path) for path in os.listdir(\"./val_large_chunks/\")]\n",
    "\n",
    "random.seed(749812)\n",
    "random_files = random.sample(chunk_files, chunks_to_train_on)\n",
    "print(random_files)\n",
    "\n",
    "trn_dfs = []\n",
    "for file in tqdm(random_files):\n",
    "    trn_dfs.append(pl.read_parquet(file))\n",
    "\n",
    "trn_df = pl.concat(trn_dfs)\n",
    "\n",
    "del trn_dfs\n",
    "import gc; gc.collect()"
   ]
  },
  {
   "cell_type": "markdown",
   "metadata": {},
   "source": [
    "# Train"
   ]
  },
  {
   "cell_type": "code",
   "execution_count": 35,
   "metadata": {},
   "outputs": [],
   "source": [
    "target_col = 'is_clicked'\n",
    "drop_cols = [\n",
    "    'impression_id', 'impression_time','user_id','session_id','article_id',\n",
    "]"
   ]
  },
  {
   "cell_type": "code",
   "execution_count": 36,
   "metadata": {},
   "outputs": [
    {
     "name": "stderr",
     "output_type": "stream",
     "text": [
      "[2024-06-17 15:18:11,930][INFO] X_train shape: (27954646, 436), y_train shape: (27954646,)\n"
     ]
    }
   ],
   "source": [
    "#drop_colsを落としたものを特徴量として使う。pandasにする\n",
    "X_train = trn_df.drop(drop_cols + [target_col]).to_pandas()\n",
    "y_train = trn_df[target_col].to_pandas()\n",
    "\n",
    "imp_train = trn_df['impression_id'].to_pandas()\n",
    "\n",
    "logger.info(f'X_train shape: {X_train.shape}, y_train shape: {y_train.shape}')\n",
    "\n",
    "X_train[\"category\"] = X_train[\"category\"].astype(\"category\")"
   ]
  },
  {
   "cell_type": "code",
   "execution_count": 37,
   "metadata": {},
   "outputs": [],
   "source": [
    "# スコア計算用\n",
    "from sklearn.metrics import roc_auc_score\n",
    "def get_mean_auc(y_pred,y_true,impression):\n",
    "    #rocをimpressionごとに計算して平均する\n",
    "    pred_df = pd.DataFrame({\n",
    "        'impression_id': impression,\n",
    "        'y_true': y_true,\n",
    "        'y_pred': y_pred\n",
    "    })\n",
    "\n",
    "    #save as valid_pred.parquet\n",
    "    pred_df.to_parquet('valid_pred.parquet')\n",
    "\n",
    "    group_auc = pred_df.groupby('impression_id').apply(lambda x: roc_auc_score(x['y_true'],x['y_pred'])).mean()\n",
    "\n",
    "    return group_auc"
   ]
  },
  {
   "cell_type": "code",
   "execution_count": 38,
   "metadata": {},
   "outputs": [
    {
     "data": {
      "text/plain": [
       "42"
      ]
     },
     "execution_count": 38,
     "metadata": {},
     "output_type": "execute_result"
    }
   ],
   "source": [
    "del trn_df\n",
    "import gc; gc.collect()"
   ]
  },
  {
   "cell_type": "markdown",
   "metadata": {},
   "source": [
    "## LightGBM"
   ]
  },
  {
   "cell_type": "code",
   "execution_count": 39,
   "metadata": {},
   "outputs": [],
   "source": [
    "lgb_params ={\n",
    "    'boosting_type': 'gbdt',\n",
    "    'objective': 'lambdarank',\n",
    "    'metric': 'ndcg',\n",
    "    'ndcg_eval_at':5,\n",
    "    'learning_rate': 0.01,\n",
    "    'feature_fraction': 0.9,\n",
    "    'bagging_fraction': 0.8,\n",
    "    'bagging_freq': 5,\n",
    "    'random_state': 758392,\n",
    "    'n_jobs': 20,\n",
    "}"
   ]
  },
  {
   "cell_type": "code",
   "execution_count": null,
   "metadata": {
    "scrolled": true
   },
   "outputs": [
    {
     "name": "stdout",
     "output_type": "stream",
     "text": [
      "[LightGBM] [Warning] Auto-choosing col-wise multi-threading, the overhead of testing was 37.037812 seconds.\n",
      "You can set `force_col_wise=true` to remove the overhead.\n",
      "[LightGBM] [Info] Total Bins 102738\n",
      "[LightGBM] [Info] Number of data points in the train set: 27954646, number of used features: 436\n"
     ]
    }
   ],
   "source": [
    "\n",
    "callbacks = [\n",
    "    lgb.log_evaluation(period=100)\n",
    "]\n",
    "\n",
    "group_train = imp_train.groupby(imp_train).count().to_numpy()\n",
    "\n",
    "lgb_train = lgb.Dataset(X_train, label=y_train,group=group_train)\n",
    "\n",
    "lgb_model = lgb.train(\n",
    "    lgb_params,\n",
    "    lgb_train,\n",
    "    num_boost_round=18000,\n",
    "    callbacks=callbacks\n",
    ")\n",
    "\n",
    "\n",
    "#feature importance\n",
    "feature_importance = lgb_model.feature_importance(importance_type='gain')\n",
    "feature_name = lgb_model.feature_name()\n",
    "\n",
    "feature_importance_df = pd.DataFrame({\n",
    "    'feature_name': feature_name,\n",
    "    'importance': feature_importance\n",
    "})\n",
    "\n",
    "feature_importance_df = feature_importance_df.sort_values('importance', ascending=False)\n",
    "\n",
    "#plot\n",
    "plt.figure(figsize=(16, 16))\n",
    "sns.barplot(data=feature_importance_df.head(50), x='importance', y='feature_name')\n",
    "plt.show()"
   ]
  },
  {
   "cell_type": "code",
   "execution_count": null,
   "metadata": {},
   "outputs": [],
   "source": [
    "lgb_model.save_model(\"lgb_model_20p_1.txt\")"
   ]
  }
 ],
 "metadata": {
  "kernelspec": {
   "display_name": "Python 3 (ipykernel)",
   "language": "python",
   "name": "python3"
  },
  "language_info": {
   "codemirror_mode": {
    "name": "ipython",
    "version": 3
   },
   "file_extension": ".py",
   "mimetype": "text/x-python",
   "name": "python",
   "nbconvert_exporter": "python",
   "pygments_lexer": "ipython3",
   "version": "3.7.12"
  }
 },
 "nbformat": 4,
 "nbformat_minor": 4
}
