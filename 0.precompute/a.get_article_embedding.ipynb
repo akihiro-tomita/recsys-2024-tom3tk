{
 "cells": [
  {
   "cell_type": "code",
   "execution_count": 1,
   "metadata": {},
   "outputs": [
    {
     "name": "stderr",
     "output_type": "stream",
     "text": [
      "/opt/conda/lib/python3.10/site-packages/scipy/__init__.py:146: UserWarning: A NumPy version >=1.16.5 and <1.23.0 is required for this version of SciPy (detected version 1.23.5\n",
      "  warnings.warn(f\"A NumPy version >={np_minversion} and <{np_maxversion}\"\n"
     ]
    }
   ],
   "source": [
    "import os,sys,gc\n",
    "\n",
    "from pathlib import Path\n",
    "\n",
    "import numpy as np\n",
    "import pandas as pd\n",
    "import polars as pl\n",
    "from glob import glob\n",
    "import pickle\n",
    "\n",
    "from datetime import timedelta\n",
    "\n",
    "import lightgbm as lgb\n",
    "import matplotlib.pyplot as plt\n",
    "import seaborn as sns\n",
    "\n",
    "import torch\n",
    "import torch.nn.functional as F\n",
    "\n",
    "import warnings\n",
    "warnings.filterwarnings('ignore')\n",
    "\n",
    "#Logging\n",
    "import logging\n",
    "\n",
    "logger = logging.getLogger(__name__)\n",
    "logger.setLevel(logging.DEBUG)\n",
    "file_handler = logging.FileHandler('logs.log')\n",
    "\n",
    "formatter = logging.Formatter('[%(asctime)s][%(levelname)s] %(message)s')\n",
    "file_handler.setFormatter(formatter)\n",
    "logger.addHandler(file_handler)\n",
    "\n",
    "stream_handler = logging.StreamHandler()\n",
    "stream_handler.setFormatter(formatter)\n",
    "logger.addHandler(stream_handler)"
   ]
  },
  {
   "cell_type": "markdown",
   "metadata": {},
   "source": [
    "# Data Load"
   ]
  },
  {
   "cell_type": "code",
   "execution_count": 4,
   "metadata": {},
   "outputs": [],
   "source": [
    "#PATH\n",
    "TRAIN_DIR = Path('/home/data/train_large')\n",
    "TEST_DIR = Path('/home/data/ebnerd_testset')"
   ]
  },
  {
   "cell_type": "code",
   "execution_count": 5,
   "metadata": {},
   "outputs": [],
   "source": [
    "\n",
    "articles = pd.read_parquet('/home/data/articles.parquet')"
   ]
  },
  {
   "cell_type": "code",
   "execution_count": 6,
   "metadata": {},
   "outputs": [],
   "source": [
    "#text=title + subtitle + body\n",
    "\n",
    "articles['text'] = articles['title'] + ' ' + articles['subtitle'] + ' ' + articles['body']"
   ]
  },
  {
   "cell_type": "code",
   "execution_count": 7,
   "metadata": {},
   "outputs": [],
   "source": [
    "article_id_list = articles['article_id'].to_list()\n",
    "article_text_list = articles['text'].to_list()"
   ]
  },
  {
   "cell_type": "code",
   "execution_count": 8,
   "metadata": {},
   "outputs": [
    {
     "data": {
      "text/plain": [
       "125541"
      ]
     },
     "execution_count": 8,
     "metadata": {},
     "output_type": "execute_result"
    }
   ],
   "source": [
    "len(articles)"
   ]
  },
  {
   "cell_type": "code",
   "execution_count": 9,
   "metadata": {},
   "outputs": [
    {
     "data": {
      "text/plain": [
       "125541"
      ]
     },
     "execution_count": 9,
     "metadata": {},
     "output_type": "execute_result"
    }
   ],
   "source": [
    "len(article_text_list)"
   ]
  },
  {
   "cell_type": "code",
   "execution_count": 10,
   "metadata": {},
   "outputs": [],
   "source": [
    "#!pip install sentence_transformers"
   ]
  },
  {
   "cell_type": "code",
   "execution_count": null,
   "metadata": {},
   "outputs": [],
   "source": [
    "from sentence_transformers import SentenceTransformer"
   ]
  },
  {
   "cell_type": "code",
   "execution_count": 12,
   "metadata": {},
   "outputs": [],
   "source": [
    "model_name = \"intfloat/multilingual-e5-large-instruct\"\n",
    "model_tag = \"multilingual-e5-large-instruct\""
   ]
  },
  {
   "cell_type": "code",
   "execution_count": 13,
   "metadata": {},
   "outputs": [],
   "source": [
    "model = SentenceTransformer(model_name)"
   ]
  },
  {
   "cell_type": "code",
   "execution_count": 14,
   "metadata": {},
   "outputs": [
    {
     "data": {
      "application/vnd.jupyter.widget-view+json": {
       "model_id": "f6950ed7906a47808692768b11d30873",
       "version_major": 2,
       "version_minor": 0
      },
      "text/plain": [
       "Batches:   0%|          | 0/981 [00:00<?, ?it/s]"
      ]
     },
     "metadata": {},
     "output_type": "display_data"
    }
   ],
   "source": [
    "embeddings = model.encode(article_text_list,batch_size = 128,show_progress_bar=True)"
   ]
  },
  {
   "cell_type": "code",
   "execution_count": 15,
   "metadata": {},
   "outputs": [],
   "source": [
    "vec_df = pd.DataFrame(embeddings)\n",
    "vec_df.columns = ['vector_'+str(i) for i in range(vec_df.shape[1])]    "
   ]
  },
  {
   "cell_type": "code",
   "execution_count": 16,
   "metadata": {},
   "outputs": [
    {
     "data": {
      "text/html": [
       "<div>\n",
       "<style scoped>\n",
       "    .dataframe tbody tr th:only-of-type {\n",
       "        vertical-align: middle;\n",
       "    }\n",
       "\n",
       "    .dataframe tbody tr th {\n",
       "        vertical-align: top;\n",
       "    }\n",
       "\n",
       "    .dataframe thead th {\n",
       "        text-align: right;\n",
       "    }\n",
       "</style>\n",
       "<table border=\"1\" class=\"dataframe\">\n",
       "  <thead>\n",
       "    <tr style=\"text-align: right;\">\n",
       "      <th></th>\n",
       "      <th>article_id</th>\n",
       "      <th>vector_0</th>\n",
       "      <th>vector_1</th>\n",
       "      <th>vector_2</th>\n",
       "      <th>vector_3</th>\n",
       "      <th>vector_4</th>\n",
       "      <th>vector_5</th>\n",
       "      <th>vector_6</th>\n",
       "      <th>vector_7</th>\n",
       "      <th>vector_8</th>\n",
       "      <th>...</th>\n",
       "      <th>vector_1014</th>\n",
       "      <th>vector_1015</th>\n",
       "      <th>vector_1016</th>\n",
       "      <th>vector_1017</th>\n",
       "      <th>vector_1018</th>\n",
       "      <th>vector_1019</th>\n",
       "      <th>vector_1020</th>\n",
       "      <th>vector_1021</th>\n",
       "      <th>vector_1022</th>\n",
       "      <th>vector_1023</th>\n",
       "    </tr>\n",
       "  </thead>\n",
       "  <tbody>\n",
       "    <tr>\n",
       "      <th>0</th>\n",
       "      <td>3000022</td>\n",
       "      <td>0.041592</td>\n",
       "      <td>0.036939</td>\n",
       "      <td>-0.028729</td>\n",
       "      <td>-0.047646</td>\n",
       "      <td>0.039175</td>\n",
       "      <td>-0.014492</td>\n",
       "      <td>-0.020138</td>\n",
       "      <td>0.045008</td>\n",
       "      <td>0.009312</td>\n",
       "      <td>...</td>\n",
       "      <td>-0.024985</td>\n",
       "      <td>-0.028937</td>\n",
       "      <td>-0.016903</td>\n",
       "      <td>-0.020801</td>\n",
       "      <td>-0.005191</td>\n",
       "      <td>0.021026</td>\n",
       "      <td>0.011858</td>\n",
       "      <td>-0.052957</td>\n",
       "      <td>-0.016096</td>\n",
       "      <td>0.014601</td>\n",
       "    </tr>\n",
       "    <tr>\n",
       "      <th>1</th>\n",
       "      <td>3000063</td>\n",
       "      <td>0.033269</td>\n",
       "      <td>0.016943</td>\n",
       "      <td>-0.024200</td>\n",
       "      <td>-0.029367</td>\n",
       "      <td>0.020860</td>\n",
       "      <td>-0.019021</td>\n",
       "      <td>-0.029731</td>\n",
       "      <td>0.032847</td>\n",
       "      <td>0.036841</td>\n",
       "      <td>...</td>\n",
       "      <td>-0.013013</td>\n",
       "      <td>-0.033814</td>\n",
       "      <td>-0.003223</td>\n",
       "      <td>-0.022727</td>\n",
       "      <td>-0.000225</td>\n",
       "      <td>0.025412</td>\n",
       "      <td>-0.026295</td>\n",
       "      <td>-0.045524</td>\n",
       "      <td>-0.006492</td>\n",
       "      <td>0.015536</td>\n",
       "    </tr>\n",
       "    <tr>\n",
       "      <th>2</th>\n",
       "      <td>3000613</td>\n",
       "      <td>0.031512</td>\n",
       "      <td>0.012187</td>\n",
       "      <td>-0.029119</td>\n",
       "      <td>-0.044338</td>\n",
       "      <td>0.028903</td>\n",
       "      <td>-0.012179</td>\n",
       "      <td>-0.014930</td>\n",
       "      <td>0.017124</td>\n",
       "      <td>0.041693</td>\n",
       "      <td>...</td>\n",
       "      <td>-0.010633</td>\n",
       "      <td>-0.021796</td>\n",
       "      <td>0.007381</td>\n",
       "      <td>-0.006376</td>\n",
       "      <td>-0.020152</td>\n",
       "      <td>0.018552</td>\n",
       "      <td>0.017019</td>\n",
       "      <td>-0.043418</td>\n",
       "      <td>-0.005032</td>\n",
       "      <td>0.018726</td>\n",
       "    </tr>\n",
       "    <tr>\n",
       "      <th>3</th>\n",
       "      <td>3000700</td>\n",
       "      <td>0.032644</td>\n",
       "      <td>0.017983</td>\n",
       "      <td>-0.025564</td>\n",
       "      <td>-0.014386</td>\n",
       "      <td>0.020997</td>\n",
       "      <td>-0.007014</td>\n",
       "      <td>-0.015845</td>\n",
       "      <td>0.023249</td>\n",
       "      <td>0.026944</td>\n",
       "      <td>...</td>\n",
       "      <td>-0.009483</td>\n",
       "      <td>-0.026856</td>\n",
       "      <td>-0.013847</td>\n",
       "      <td>-0.030667</td>\n",
       "      <td>-0.003847</td>\n",
       "      <td>0.038637</td>\n",
       "      <td>0.044005</td>\n",
       "      <td>-0.030810</td>\n",
       "      <td>-0.020270</td>\n",
       "      <td>0.034830</td>\n",
       "    </tr>\n",
       "    <tr>\n",
       "      <th>4</th>\n",
       "      <td>3000840</td>\n",
       "      <td>0.034178</td>\n",
       "      <td>0.066137</td>\n",
       "      <td>-0.036457</td>\n",
       "      <td>-0.043256</td>\n",
       "      <td>0.025989</td>\n",
       "      <td>-0.028042</td>\n",
       "      <td>-0.020350</td>\n",
       "      <td>0.015908</td>\n",
       "      <td>0.025811</td>\n",
       "      <td>...</td>\n",
       "      <td>-0.014931</td>\n",
       "      <td>-0.020730</td>\n",
       "      <td>0.017001</td>\n",
       "      <td>-0.008465</td>\n",
       "      <td>0.010567</td>\n",
       "      <td>0.000845</td>\n",
       "      <td>0.017410</td>\n",
       "      <td>-0.058425</td>\n",
       "      <td>-0.019666</td>\n",
       "      <td>0.003741</td>\n",
       "    </tr>\n",
       "    <tr>\n",
       "      <th>...</th>\n",
       "      <td>...</td>\n",
       "      <td>...</td>\n",
       "      <td>...</td>\n",
       "      <td>...</td>\n",
       "      <td>...</td>\n",
       "      <td>...</td>\n",
       "      <td>...</td>\n",
       "      <td>...</td>\n",
       "      <td>...</td>\n",
       "      <td>...</td>\n",
       "      <td>...</td>\n",
       "      <td>...</td>\n",
       "      <td>...</td>\n",
       "      <td>...</td>\n",
       "      <td>...</td>\n",
       "      <td>...</td>\n",
       "      <td>...</td>\n",
       "      <td>...</td>\n",
       "      <td>...</td>\n",
       "      <td>...</td>\n",
       "      <td>...</td>\n",
       "    </tr>\n",
       "    <tr>\n",
       "      <th>125536</th>\n",
       "      <td>9803505</td>\n",
       "      <td>0.047599</td>\n",
       "      <td>0.027253</td>\n",
       "      <td>-0.019702</td>\n",
       "      <td>-0.050925</td>\n",
       "      <td>0.029644</td>\n",
       "      <td>0.020419</td>\n",
       "      <td>-0.019647</td>\n",
       "      <td>0.026762</td>\n",
       "      <td>0.030372</td>\n",
       "      <td>...</td>\n",
       "      <td>-0.039689</td>\n",
       "      <td>-0.033923</td>\n",
       "      <td>0.016548</td>\n",
       "      <td>-0.031708</td>\n",
       "      <td>0.005191</td>\n",
       "      <td>-0.012108</td>\n",
       "      <td>-0.023511</td>\n",
       "      <td>-0.046316</td>\n",
       "      <td>-0.015116</td>\n",
       "      <td>-0.002053</td>\n",
       "    </tr>\n",
       "    <tr>\n",
       "      <th>125537</th>\n",
       "      <td>9803510</td>\n",
       "      <td>0.023637</td>\n",
       "      <td>0.032511</td>\n",
       "      <td>-0.022845</td>\n",
       "      <td>-0.049562</td>\n",
       "      <td>0.022435</td>\n",
       "      <td>-0.011798</td>\n",
       "      <td>-0.039580</td>\n",
       "      <td>0.027108</td>\n",
       "      <td>0.051269</td>\n",
       "      <td>...</td>\n",
       "      <td>-0.012995</td>\n",
       "      <td>-0.047795</td>\n",
       "      <td>0.003099</td>\n",
       "      <td>-0.041378</td>\n",
       "      <td>0.020139</td>\n",
       "      <td>0.024213</td>\n",
       "      <td>0.000836</td>\n",
       "      <td>-0.062128</td>\n",
       "      <td>-0.056860</td>\n",
       "      <td>0.035667</td>\n",
       "    </tr>\n",
       "    <tr>\n",
       "      <th>125538</th>\n",
       "      <td>9803525</td>\n",
       "      <td>0.014563</td>\n",
       "      <td>0.028312</td>\n",
       "      <td>-0.025777</td>\n",
       "      <td>-0.026197</td>\n",
       "      <td>0.003721</td>\n",
       "      <td>-0.004705</td>\n",
       "      <td>-0.019182</td>\n",
       "      <td>0.048098</td>\n",
       "      <td>0.042244</td>\n",
       "      <td>...</td>\n",
       "      <td>-0.014981</td>\n",
       "      <td>-0.034015</td>\n",
       "      <td>-0.007030</td>\n",
       "      <td>-0.049283</td>\n",
       "      <td>-0.008183</td>\n",
       "      <td>0.033857</td>\n",
       "      <td>-0.006020</td>\n",
       "      <td>-0.045291</td>\n",
       "      <td>-0.018446</td>\n",
       "      <td>0.006979</td>\n",
       "    </tr>\n",
       "    <tr>\n",
       "      <th>125539</th>\n",
       "      <td>9803560</td>\n",
       "      <td>0.036995</td>\n",
       "      <td>0.024908</td>\n",
       "      <td>-0.015726</td>\n",
       "      <td>-0.050903</td>\n",
       "      <td>0.041055</td>\n",
       "      <td>-0.012985</td>\n",
       "      <td>-0.010060</td>\n",
       "      <td>0.042424</td>\n",
       "      <td>0.029701</td>\n",
       "      <td>...</td>\n",
       "      <td>-0.027996</td>\n",
       "      <td>-0.013542</td>\n",
       "      <td>-0.008119</td>\n",
       "      <td>-0.016129</td>\n",
       "      <td>0.025896</td>\n",
       "      <td>0.034681</td>\n",
       "      <td>0.024347</td>\n",
       "      <td>-0.029181</td>\n",
       "      <td>-0.014498</td>\n",
       "      <td>0.032150</td>\n",
       "    </tr>\n",
       "    <tr>\n",
       "      <th>125540</th>\n",
       "      <td>9803607</td>\n",
       "      <td>0.032210</td>\n",
       "      <td>0.042760</td>\n",
       "      <td>-0.020279</td>\n",
       "      <td>-0.035245</td>\n",
       "      <td>0.026435</td>\n",
       "      <td>0.011074</td>\n",
       "      <td>0.004911</td>\n",
       "      <td>0.016671</td>\n",
       "      <td>0.036971</td>\n",
       "      <td>...</td>\n",
       "      <td>-0.031166</td>\n",
       "      <td>-0.042866</td>\n",
       "      <td>-0.001918</td>\n",
       "      <td>-0.022247</td>\n",
       "      <td>-0.004319</td>\n",
       "      <td>-0.001331</td>\n",
       "      <td>0.026190</td>\n",
       "      <td>-0.014097</td>\n",
       "      <td>-0.001955</td>\n",
       "      <td>0.004216</td>\n",
       "    </tr>\n",
       "  </tbody>\n",
       "</table>\n",
       "<p>125541 rows × 1025 columns</p>\n",
       "</div>"
      ],
      "text/plain": [
       "        article_id  vector_0  vector_1  vector_2  vector_3  vector_4  \\\n",
       "0          3000022  0.041592  0.036939 -0.028729 -0.047646  0.039175   \n",
       "1          3000063  0.033269  0.016943 -0.024200 -0.029367  0.020860   \n",
       "2          3000613  0.031512  0.012187 -0.029119 -0.044338  0.028903   \n",
       "3          3000700  0.032644  0.017983 -0.025564 -0.014386  0.020997   \n",
       "4          3000840  0.034178  0.066137 -0.036457 -0.043256  0.025989   \n",
       "...            ...       ...       ...       ...       ...       ...   \n",
       "125536     9803505  0.047599  0.027253 -0.019702 -0.050925  0.029644   \n",
       "125537     9803510  0.023637  0.032511 -0.022845 -0.049562  0.022435   \n",
       "125538     9803525  0.014563  0.028312 -0.025777 -0.026197  0.003721   \n",
       "125539     9803560  0.036995  0.024908 -0.015726 -0.050903  0.041055   \n",
       "125540     9803607  0.032210  0.042760 -0.020279 -0.035245  0.026435   \n",
       "\n",
       "        vector_5  vector_6  vector_7  vector_8  ...  vector_1014  vector_1015  \\\n",
       "0      -0.014492 -0.020138  0.045008  0.009312  ...    -0.024985    -0.028937   \n",
       "1      -0.019021 -0.029731  0.032847  0.036841  ...    -0.013013    -0.033814   \n",
       "2      -0.012179 -0.014930  0.017124  0.041693  ...    -0.010633    -0.021796   \n",
       "3      -0.007014 -0.015845  0.023249  0.026944  ...    -0.009483    -0.026856   \n",
       "4      -0.028042 -0.020350  0.015908  0.025811  ...    -0.014931    -0.020730   \n",
       "...          ...       ...       ...       ...  ...          ...          ...   \n",
       "125536  0.020419 -0.019647  0.026762  0.030372  ...    -0.039689    -0.033923   \n",
       "125537 -0.011798 -0.039580  0.027108  0.051269  ...    -0.012995    -0.047795   \n",
       "125538 -0.004705 -0.019182  0.048098  0.042244  ...    -0.014981    -0.034015   \n",
       "125539 -0.012985 -0.010060  0.042424  0.029701  ...    -0.027996    -0.013542   \n",
       "125540  0.011074  0.004911  0.016671  0.036971  ...    -0.031166    -0.042866   \n",
       "\n",
       "        vector_1016  vector_1017  vector_1018  vector_1019  vector_1020  \\\n",
       "0         -0.016903    -0.020801    -0.005191     0.021026     0.011858   \n",
       "1         -0.003223    -0.022727    -0.000225     0.025412    -0.026295   \n",
       "2          0.007381    -0.006376    -0.020152     0.018552     0.017019   \n",
       "3         -0.013847    -0.030667    -0.003847     0.038637     0.044005   \n",
       "4          0.017001    -0.008465     0.010567     0.000845     0.017410   \n",
       "...             ...          ...          ...          ...          ...   \n",
       "125536     0.016548    -0.031708     0.005191    -0.012108    -0.023511   \n",
       "125537     0.003099    -0.041378     0.020139     0.024213     0.000836   \n",
       "125538    -0.007030    -0.049283    -0.008183     0.033857    -0.006020   \n",
       "125539    -0.008119    -0.016129     0.025896     0.034681     0.024347   \n",
       "125540    -0.001918    -0.022247    -0.004319    -0.001331     0.026190   \n",
       "\n",
       "        vector_1021  vector_1022  vector_1023  \n",
       "0         -0.052957    -0.016096     0.014601  \n",
       "1         -0.045524    -0.006492     0.015536  \n",
       "2         -0.043418    -0.005032     0.018726  \n",
       "3         -0.030810    -0.020270     0.034830  \n",
       "4         -0.058425    -0.019666     0.003741  \n",
       "...             ...          ...          ...  \n",
       "125536    -0.046316    -0.015116    -0.002053  \n",
       "125537    -0.062128    -0.056860     0.035667  \n",
       "125538    -0.045291    -0.018446     0.006979  \n",
       "125539    -0.029181    -0.014498     0.032150  \n",
       "125540    -0.014097    -0.001955     0.004216  \n",
       "\n",
       "[125541 rows x 1025 columns]"
      ]
     },
     "execution_count": 16,
     "metadata": {},
     "output_type": "execute_result"
    }
   ],
   "source": [
    "vec_df.index = article_id_list\n",
    "vec_df = vec_df.reset_index()\n",
    "vec_df = vec_df.rename(columns={'index':'article_id'})\n",
    "vec_df['article_id'] = vec_df['article_id'].astype('int32')\n",
    "vec_df"
   ]
  },
  {
   "cell_type": "code",
   "execution_count": 17,
   "metadata": {},
   "outputs": [],
   "source": [
    "SAVE_DIR = f'/home/data/{model_tag}'"
   ]
  },
  {
   "cell_type": "code",
   "execution_count": 18,
   "metadata": {},
   "outputs": [],
   "source": [
    "#make dir\n",
    "os.makedirs(SAVE_DIR,exist_ok=True)"
   ]
  },
  {
   "cell_type": "code",
   "execution_count": 20,
   "metadata": {
    "tags": []
   },
   "outputs": [],
   "source": [
    "#save vec_df\n",
    "vec_df.to_parquet(f'{SAVE_DIR}/{model_tag}_vec_df.parquet')"
   ]
  },
  {
   "cell_type": "code",
   "execution_count": 21,
   "metadata": {
    "tags": []
   },
   "outputs": [
    {
     "data": {
      "text/plain": [
       "(125541, 1025)"
      ]
     },
     "execution_count": 21,
     "metadata": {},
     "output_type": "execute_result"
    }
   ],
   "source": [
    "vec_df.shape"
   ]
  },
  {
   "cell_type": "code",
   "execution_count": 22,
   "metadata": {
    "tags": []
   },
   "outputs": [
    {
     "data": {
      "text/plain": [
       "(125541, 2)"
      ]
     },
     "execution_count": 22,
     "metadata": {},
     "output_type": "execute_result"
    }
   ],
   "source": [
    "pd.read_parquet('/home/data/Ekstra_Bladet_contrastive_vector/contrastive_vector.parquet').shape"
   ]
  }
 ],
 "metadata": {
  "kernelspec": {
   "display_name": "Python 3 (ipykernel)",
   "language": "python",
   "name": "python3"
  },
  "language_info": {
   "codemirror_mode": {
    "name": "ipython",
    "version": 3
   },
   "file_extension": ".py",
   "mimetype": "text/x-python",
   "name": "python",
   "nbconvert_exporter": "python",
   "pygments_lexer": "ipython3",
   "version": "3.7.12"
  }
 },
 "nbformat": 4,
 "nbformat_minor": 4
}
