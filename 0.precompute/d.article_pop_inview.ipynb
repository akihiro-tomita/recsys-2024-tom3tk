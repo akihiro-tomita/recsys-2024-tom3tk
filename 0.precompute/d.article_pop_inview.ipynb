{
 "cells": [
  {
   "cell_type": "code",
   "execution_count": 1,
   "metadata": {
    "tags": []
   },
   "outputs": [
    {
     "name": "stderr",
     "output_type": "stream",
     "text": [
      "/opt/conda/lib/python3.10/site-packages/scipy/__init__.py:146: UserWarning: A NumPy version >=1.16.5 and <1.23.0 is required for this version of SciPy (detected version 1.23.5\n",
      "  warnings.warn(f\"A NumPy version >={np_minversion} and <{np_maxversion}\"\n"
     ]
    }
   ],
   "source": [
    "import os,sys,gc\n",
    "\n",
    "from pathlib import Path\n",
    "\n",
    "import numpy as np\n",
    "import pandas as pd\n",
    "import polars as pl\n",
    "from glob import glob\n",
    "import pickle\n",
    "\n",
    "from datetime import timedelta\n",
    "\n",
    "import lightgbm as lgb\n",
    "import matplotlib.pyplot as plt\n",
    "import seaborn as sns\n",
    "\n",
    "import torch\n",
    "import torch.nn.functional as F\n",
    "\n",
    "import warnings\n",
    "warnings.filterwarnings('ignore')\n",
    "\n",
    "#Logging\n",
    "import logging\n",
    "logger = logging.getLogger(__name__)\n",
    "logger.setLevel(logging.DEBUG)\n",
    "file_handler = logging.FileHandler('logs.log')\n",
    "\n",
    "formatter = logging.Formatter('[%(asctime)s][%(levelname)s] %(message)s')\n",
    "file_handler.setFormatter(formatter)\n",
    "logger.addHandler(file_handler)\n",
    "stream_handler = logging.StreamHandler()\n",
    "stream_handler.setFormatter(formatter)\n",
    "logger.addHandler(stream_handler)"
   ]
  },
  {
   "cell_type": "markdown",
   "metadata": {},
   "source": [
    "# Historyからitem popularity"
   ]
  },
  {
   "cell_type": "code",
   "execution_count": 3,
   "metadata": {
    "tags": []
   },
   "outputs": [],
   "source": [
    "#PATH\n",
    "TRAIN_DIR = Path('/home/data/train_large')\n",
    "TEST_DIR = Path('/home/data/ebnerd_testset')\n",
    "\n",
    "trn_history = pl.read_parquet(TRAIN_DIR/'train'/'history.parquet')\n",
    "val_history = pl.read_parquet(TRAIN_DIR/'validation'/'history.parquet')\n",
    "test_history = pl.read_parquet(TEST_DIR/'test'/'history.parquet')\n",
    "\n",
    "trn_behaviors = pl.read_parquet(TRAIN_DIR/'train'/'behaviors.parquet')\n",
    "val_behaviors = pl.read_parquet(TRAIN_DIR/'validation'/'behaviors.parquet')\n",
    "test_behaviors = pl.read_parquet(TEST_DIR/'test'/'behaviors.parquet')"
   ]
  },
  {
   "cell_type": "code",
   "execution_count": 4,
   "metadata": {},
   "outputs": [],
   "source": [
    "df_history = trn_history.clone()\n",
    "df_behaviors = trn_behaviors.clone()"
   ]
  },
  {
   "cell_type": "code",
   "execution_count": 5,
   "metadata": {},
   "outputs": [],
   "source": [
    "df_user = df_behaviors.select(['user_id','is_sso_user','gender','postcode','age','is_subscriber']).unique()"
   ]
  },
  {
   "cell_type": "code",
   "execution_count": 6,
   "metadata": {},
   "outputs": [],
   "source": [
    "df_history = df_history.explode(['impression_time_fixed','scroll_percentage_fixed','article_id_fixed','read_time_fixed'])\n",
    "df_history.columns = ['user_id','impression_time_history','scroll_percentage_history','article_id','read_time_history']\n",
    "df_history = df_history.fill_null(0)"
   ]
  },
  {
   "cell_type": "markdown",
   "metadata": {},
   "source": [
    "### df_behaviorsのarticle_ids_inviewベースで作成"
   ]
  },
  {
   "cell_type": "code",
   "execution_count": 9,
   "metadata": {
    "tags": []
   },
   "outputs": [],
   "source": [
    "def get_article_ids_inview_pop(\n",
    "        df_behaviors,\n",
    "        time_interval,\n",
    "        ):\n",
    "    df = df_behaviors.explode(\"article_ids_inview\").select(\n",
    "    ['impression_id','impression_time','article_ids_inview'])\n",
    "\n",
    "    if time_interval:\n",
    "        df = df.with_columns(\n",
    "            pl.col(\"impression_time\").dt.truncate(time_interval).alias(\"rounded_datetime\")\n",
    "        )\n",
    "        df_pop = df.groupby(['article_ids_inview','rounded_datetime']).agg(\n",
    "            pl.count(\"impression_id\").alias(\"count\")\n",
    "        )\n",
    "        df_pop.columns = ['article_id',f'rounded_{time_interval}_datetime',f'rounded_{time_interval}_inview_count']\n",
    "\n",
    "    return df_pop"
   ]
  },
  {
   "cell_type": "code",
   "execution_count": 10,
   "metadata": {
    "tags": []
   },
   "outputs": [],
   "source": [
    "df_dict ={\n",
    "    'train':trn_behaviors,\n",
    "    'valid':val_behaviors,\n",
    "    'test':test_behaviors,\n",
    "}"
   ]
  },
  {
   "cell_type": "code",
   "execution_count": 11,
   "metadata": {
    "tags": []
   },
   "outputs": [
    {
     "name": "stderr",
     "output_type": "stream",
     "text": [
      "[2024-06-07 08:55:18,148][INFO] time_interval:15s / shape:(10759132, 3)\n",
      "[2024-06-07 08:55:34,138][INFO] time_interval:30s / shape:(7154899, 3)\n",
      "[2024-06-07 08:55:54,671][INFO] time_interval:15s / shape:(13196740, 3)\n",
      "[2024-06-07 08:56:13,575][INFO] time_interval:30s / shape:(8740934, 3)\n",
      "[2024-06-07 08:56:33,910][INFO] time_interval:15s / shape:(13533909, 3)\n",
      "[2024-06-07 08:56:52,293][INFO] time_interval:30s / shape:(8948062, 3)\n"
     ]
    }
   ],
   "source": [
    "#df_articleを保存\n",
    "dir_path = '/home/data/article_pop_inview'\n",
    "\n",
    "time_interval_list = ['1m','2m','3m','5m','10m','15m','20m','30m','1h','2h','3h','6h','12h','24h']\n",
    "\n",
    "for df_name,df_history in df_dict.items():\n",
    "    for time_interval in time_interval_list:\n",
    "        df_article = get_article_ids_inview_pop(df_history,time_interval)\n",
    "        df_article.write_parquet(f'{dir_path}/{df_name}_article_pop_inview_{time_interval}.parquet')\n",
    "\n",
    "        logger.info(f'time_interval:{time_interval} / shape:{df_article.shape}')"
   ]
  },
  {
   "cell_type": "code",
   "execution_count": 12,
   "metadata": {
    "tags": []
   },
   "outputs": [
    {
     "data": {
      "text/html": [
       "<div><style>\n",
       ".dataframe > thead > tr > th,\n",
       ".dataframe > tbody > tr > td {\n",
       "  text-align: right;\n",
       "  white-space: pre-wrap;\n",
       "}\n",
       "</style>\n",
       "<small>shape: (5, 3)</small><table border=\"1\" class=\"dataframe\"><thead><tr><th>article_id</th><th>rounded_30s_datetime</th><th>rounded_30s_inview_count</th></tr><tr><td>i32</td><td>datetime[μs]</td><td>u32</td></tr></thead><tbody><tr><td>9792856</td><td>2023-06-01 07:00:00</td><td>200000</td></tr><tr><td>9791766</td><td>2023-06-01 07:00:00</td><td>200000</td></tr><tr><td>9793106</td><td>2023-06-01 07:00:00</td><td>200000</td></tr><tr><td>9793541</td><td>2023-06-01 07:00:00</td><td>200000</td></tr><tr><td>9791788</td><td>2023-06-01 07:00:00</td><td>200000</td></tr></tbody></table></div>"
      ],
      "text/plain": [
       "shape: (5, 3)\n",
       "┌────────────┬──────────────────────┬──────────────────────────┐\n",
       "│ article_id ┆ rounded_30s_datetime ┆ rounded_30s_inview_count │\n",
       "│ ---        ┆ ---                  ┆ ---                      │\n",
       "│ i32        ┆ datetime[μs]         ┆ u32                      │\n",
       "╞════════════╪══════════════════════╪══════════════════════════╡\n",
       "│ 9792856    ┆ 2023-06-01 07:00:00  ┆ 200000                   │\n",
       "│ 9791766    ┆ 2023-06-01 07:00:00  ┆ 200000                   │\n",
       "│ 9793106    ┆ 2023-06-01 07:00:00  ┆ 200000                   │\n",
       "│ 9793541    ┆ 2023-06-01 07:00:00  ┆ 200000                   │\n",
       "│ 9791788    ┆ 2023-06-01 07:00:00  ┆ 200000                   │\n",
       "└────────────┴──────────────────────┴──────────────────────────┘"
      ]
     },
     "execution_count": 12,
     "metadata": {},
     "output_type": "execute_result"
    }
   ],
   "source": [
    "df_article.tail()"
   ]
  }
 ],
 "metadata": {
  "kernelspec": {
   "display_name": "Python 3 (ipykernel)",
   "language": "python",
   "name": "python3"
  },
  "language_info": {
   "codemirror_mode": {
    "name": "ipython",
    "version": 3
   },
   "file_extension": ".py",
   "mimetype": "text/x-python",
   "name": "python",
   "nbconvert_exporter": "python",
   "pygments_lexer": "ipython3",
   "version": "3.10.12"
  }
 },
 "nbformat": 4,
 "nbformat_minor": 4
}
